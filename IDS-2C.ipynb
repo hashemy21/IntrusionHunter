{
 "cells": [
  {
   "cell_type": "code",
   "execution_count": 1,
   "id": "04f70a8c",
   "metadata": {},
   "outputs": [],
   "source": [
    "# import libraries\n",
    "import numpy as np # linear algebra\n",
    "import pandas as pd # data processing, CSV file I/O (e.g. pd.read_csv)\n",
    "import os, re, time, math, tqdm, itertools\n",
    "import matplotlib.pyplot as plt\n",
    "import seaborn as sns\n",
    "import plotly.express as px\n",
    "import plotly.offline as pyo\n",
    "from sklearn.model_selection import train_test_split\n",
    "from sklearn.preprocessing import MinMaxScaler\n",
    "from sklearn.ensemble import RandomForestClassifier\n",
    "from sklearn.preprocessing import LabelEncoder\n",
    "from sklearn.neural_network import MLPClassifier\n",
    "import keras\n",
    "from keras.layers import Conv2D, Conv1D, MaxPooling2D, MaxPooling1D, Flatten, BatchNormalization, Dense\n",
    "from keras.utils.np_utils import to_categorical\n",
    "from keras.models import Sequential\n",
    "from keras.callbacks import CSVLogger, ModelCheckpoint\n",
    "import glob\n",
    "import gc"
   ]
  },
  {
   "cell_type": "code",
   "execution_count": 2,
   "id": "9ae63b8d",
   "metadata": {},
   "outputs": [],
   "source": [
    "# set base path to the directory containing the csv files of the dataset\n",
    "dataset_base_path_parquet = r'D:/GIU/Semester 7/Bachelor Thesis/Datasets/CICIDS 2018/full cicids 2018/processed/newPARQUET'"
   ]
  },
  {
   "cell_type": "code",
   "execution_count": null,
   "id": "0da7a1e5",
   "metadata": {},
   "outputs": [],
   "source": []
  },
  {
   "cell_type": "code",
   "execution_count": 3,
   "id": "972ad4e7",
   "metadata": {},
   "outputs": [],
   "source": [
    "parquet_files = glob.glob(os.path.join(dataset_base_path_parquet, '*.parquet'))\n",
    "\n",
    "network_data = pd.concat((pd.read_parquet(f) for f in parquet_files))"
   ]
  },
  {
   "cell_type": "code",
   "execution_count": 4,
   "id": "0611620a",
   "metadata": {},
   "outputs": [
    {
     "data": {
      "text/plain": [
       "(15738470, 80)"
      ]
     },
     "execution_count": 4,
     "metadata": {},
     "output_type": "execute_result"
    }
   ],
   "source": [
    "network_data.shape"
   ]
  },
  {
   "cell_type": "code",
   "execution_count": 5,
   "id": "ed201536",
   "metadata": {},
   "outputs": [
    {
     "name": "stdout",
     "output_type": "stream",
     "text": [
      "<class 'pandas.core.frame.DataFrame'>\n",
      "Int64Index: 15738470 entries, 0 to 601380\n",
      "Data columns (total 80 columns):\n",
      " #   Column             Dtype  \n",
      "---  ------             -----  \n",
      " 0   dst_port           uint32 \n",
      " 1   protocol           uint8  \n",
      " 2   timestamp          object \n",
      " 3   flow_duration      int64  \n",
      " 4   tot_fwd_pkts       uint32 \n",
      " 5   tot_bwd_pkts       uint32 \n",
      " 6   totlen_fwd_pkts    uint32 \n",
      " 7   totlen_bwd_pkts    uint32 \n",
      " 8   fwd_pkt_len_max    uint16 \n",
      " 9   fwd_pkt_len_min    uint16 \n",
      " 10  fwd_pkt_len_mean   float32\n",
      " 11  fwd_pkt_len_std    float32\n",
      " 12  bwd_pkt_len_max    uint16 \n",
      " 13  bwd_pkt_len_min    uint16 \n",
      " 14  bwd_pkt_len_mean   float32\n",
      " 15  bwd_pkt_len_std    float32\n",
      " 16  flow_byts_s        float64\n",
      " 17  flow_pkts_s        float64\n",
      " 18  flow_iat_mean      float32\n",
      " 19  flow_iat_std       float32\n",
      " 20  flow_iat_max       int64  \n",
      " 21  flow_iat_min       int64  \n",
      " 22  fwd_iat_tot        int64  \n",
      " 23  fwd_iat_mean       float32\n",
      " 24  fwd_iat_std        float32\n",
      " 25  fwd_iat_max        int64  \n",
      " 26  fwd_iat_min        int64  \n",
      " 27  bwd_iat_tot        uint32 \n",
      " 28  bwd_iat_mean       float32\n",
      " 29  bwd_iat_std        float32\n",
      " 30  bwd_iat_max        uint32 \n",
      " 31  bwd_iat_min        uint32 \n",
      " 32  fwd_psh_flags      uint8  \n",
      " 33  bwd_psh_flags      uint8  \n",
      " 34  fwd_urg_flags      uint8  \n",
      " 35  bwd_urg_flags      uint8  \n",
      " 36  fwd_header_len     uint32 \n",
      " 37  bwd_header_len     uint32 \n",
      " 38  fwd_pkts_s         float32\n",
      " 39  bwd_pkts_s         float32\n",
      " 40  pkt_len_min        uint16 \n",
      " 41  pkt_len_max        uint16 \n",
      " 42  pkt_len_mean       float32\n",
      " 43  pkt_len_std        float32\n",
      " 44  pkt_len_var        float32\n",
      " 45  fin_flag_cnt       uint8  \n",
      " 46  syn_flag_cnt       uint8  \n",
      " 47  rst_flag_cnt       uint8  \n",
      " 48  psh_flag_cnt       uint8  \n",
      " 49  ack_flag_cnt       uint8  \n",
      " 50  urg_flag_cnt       uint8  \n",
      " 51  cwe_flag_count     uint8  \n",
      " 52  ece_flag_cnt       uint8  \n",
      " 53  down_up_ratio      uint16 \n",
      " 54  pkt_size_avg       float32\n",
      " 55  fwd_seg_size_avg   float32\n",
      " 56  bwd_seg_size_avg   float32\n",
      " 57  fwd_byts_b_avg     uint8  \n",
      " 58  fwd_pkts_b_avg     uint8  \n",
      " 59  fwd_blk_rate_avg   uint8  \n",
      " 60  bwd_byts_b_avg     uint8  \n",
      " 61  bwd_pkts_b_avg     uint8  \n",
      " 62  bwd_blk_rate_avg   uint8  \n",
      " 63  subflow_fwd_pkts   uint32 \n",
      " 64  subflow_fwd_byts   uint32 \n",
      " 65  subflow_bwd_pkts   uint32 \n",
      " 66  subflow_bwd_byts   uint32 \n",
      " 67  init_fwd_win_byts  int32  \n",
      " 68  init_bwd_win_byts  int32  \n",
      " 69  fwd_act_data_pkts  uint32 \n",
      " 70  fwd_seg_size_min   uint8  \n",
      " 71  active_mean        float32\n",
      " 72  active_std         float32\n",
      " 73  active_max         uint32 \n",
      " 74  active_min         uint32 \n",
      " 75  idle_mean          float32\n",
      " 76  idle_std           float32\n",
      " 77  idle_max           uint64 \n",
      " 78  idle_min           uint64 \n",
      " 79  label              object \n",
      "dtypes: float32(22), float64(2), int32(2), int64(6), object(2), uint16(7), uint32(17), uint64(2), uint8(20)\n",
      "memory usage: 4.4+ GB\n"
     ]
    }
   ],
   "source": [
    "network_data.info()"
   ]
  },
  {
   "cell_type": "code",
   "execution_count": 6,
   "id": "198e1efe",
   "metadata": {},
   "outputs": [],
   "source": [
    "def change_label(df):\n",
    "    df.label.replace(['Infilteration', 'Bot', 'FTP-BruteForce',\n",
    "       'SSH-Bruteforce', 'DoS attacks-GoldenEye', 'DoS attacks-Slowloris',\n",
    "       'DoS attacks-SlowHTTPTest', 'DoS attacks-Hulk',\n",
    "       'DDoS attacks-LOIC-HTTP', 'DDOS attack-LOIC-UDP',\n",
    "       'DDOS attack-HOIC', 'Brute Force -Web', 'Brute Force -XSS',\n",
    "       'SQL Injection'],'Malicious',inplace=True)\n"
   ]
  },
  {
   "cell_type": "code",
   "execution_count": 7,
   "id": "c6098790",
   "metadata": {},
   "outputs": [],
   "source": [
    "change_label(network_data)"
   ]
  },
  {
   "cell_type": "code",
   "execution_count": 8,
   "id": "2d1eacc7",
   "metadata": {},
   "outputs": [
    {
     "data": {
      "text/plain": [
       "Benign       13385066\n",
       "Malicious     2353404\n",
       "Name: label, dtype: int64"
      ]
     },
     "execution_count": 8,
     "metadata": {},
     "output_type": "execute_result"
    }
   ],
   "source": [
    "# check the number of values for labels\n",
    "network_data['label'].value_counts()"
   ]
  },
  {
   "cell_type": "code",
   "execution_count": 9,
   "id": "27ff538c",
   "metadata": {},
   "outputs": [
    {
     "data": {
      "text/plain": [
       "array([0, 1])"
      ]
     },
     "execution_count": 9,
     "metadata": {},
     "output_type": "execute_result"
    }
   ],
   "source": [
    "label_encoder = LabelEncoder()\n",
    "network_data['label']= label_encoder.fit_transform(network_data['label'])\n",
    "network_data['label'].unique()"
   ]
  },
  {
   "cell_type": "code",
   "execution_count": 10,
   "id": "4110620e",
   "metadata": {},
   "outputs": [
    {
     "data": {
      "text/plain": [
       "0    13385066\n",
       "1     2353404\n",
       "Name: label, dtype: int64"
      ]
     },
     "execution_count": 10,
     "metadata": {},
     "output_type": "execute_result"
    }
   ],
   "source": [
    "# check for encoded labels\n",
    "network_data['label'].value_counts()"
   ]
  },
  {
   "cell_type": "code",
   "execution_count": 11,
   "id": "e0210d7c",
   "metadata": {},
   "outputs": [
    {
     "data": {
      "text/plain": [
       "(15738470, 80)"
      ]
     },
     "execution_count": 11,
     "metadata": {},
     "output_type": "execute_result"
    }
   ],
   "source": [
    "network_data.shape"
   ]
  },
  {
   "cell_type": "code",
   "execution_count": 12,
   "id": "03ce8a1e",
   "metadata": {},
   "outputs": [
    {
     "data": {
      "text/plain": [
       "array([0, 0, 0, 0, 0, 0, 0, 0, 0, 0, 0, 0, 0, 0, 0, 0, 0, 0, 0, 0, 0, 0,\n",
       "       0, 0, 0, 0, 0, 0, 0, 0, 0, 0, 0, 0, 0, 0, 0, 0, 0, 0, 0, 0, 0, 0,\n",
       "       0, 0, 0, 0, 0, 0, 0, 0, 0, 0, 0, 0, 0, 0, 0, 0, 0, 0, 0, 0, 0, 0,\n",
       "       0, 0, 0, 0, 0, 0, 0, 0, 0, 0, 0, 0, 0, 0], dtype=int64)"
      ]
     },
     "execution_count": 12,
     "metadata": {},
     "output_type": "execute_result"
    }
   ],
   "source": [
    "network_data.isna().sum().to_numpy()"
   ]
  },
  {
   "cell_type": "code",
   "execution_count": 13,
   "id": "4b1d50b0",
   "metadata": {},
   "outputs": [],
   "source": [
    "import pandas as pd\n",
    "from sklearn.model_selection import train_test_split\n",
    "\n",
    "\n",
    "training_data, testing_data = train_test_split(network_data, test_size=0.2, random_state=132, stratify=network_data.label)"
   ]
  },
  {
   "cell_type": "code",
   "execution_count": 14,
   "id": "061077cb",
   "metadata": {},
   "outputs": [
    {
     "data": {
      "text/plain": [
       "(array([0, 1]), array([0, 1]))"
      ]
     },
     "execution_count": 14,
     "metadata": {},
     "output_type": "execute_result"
    }
   ],
   "source": [
    "target_train = training_data['label']\n",
    "target_test = testing_data['label']\n",
    "target_train.unique(), target_test.unique()"
   ]
  },
  {
   "cell_type": "code",
   "execution_count": 15,
   "id": "ab940d3a",
   "metadata": {},
   "outputs": [],
   "source": [
    "training_data.drop(columns = [\"timestamp\",\"label\"], axis=1, inplace = True)\n",
    "testing_data.drop(columns = [\"timestamp\",\"label\"], axis=1, inplace = True)"
   ]
  },
  {
   "cell_type": "code",
   "execution_count": 16,
   "id": "b5780863",
   "metadata": {},
   "outputs": [
    {
     "name": "stdout",
     "output_type": "stream",
     "text": [
      "(12590776, 78)\n",
      "(3147694, 78)\n",
      "(12590776,)\n",
      "(3147694,)\n"
     ]
    }
   ],
   "source": [
    "print(training_data.shape)\n",
    "print(testing_data.shape)\n",
    "print(target_train.shape)\n",
    "print(target_test.shape)"
   ]
  },
  {
   "cell_type": "code",
   "execution_count": 17,
   "id": "a35bec7a",
   "metadata": {},
   "outputs": [],
   "source": [
    "y_train = to_categorical(target_train, num_classes=2)\n",
    "y_test = to_categorical(target_test, num_classes=2)"
   ]
  },
  {
   "cell_type": "code",
   "execution_count": 18,
   "id": "f2d182d6",
   "metadata": {},
   "outputs": [],
   "source": [
    "# %%time\n",
    "# import pandas as pd\n",
    "# from sklearn.ensemble import RandomForestClassifier\n",
    "# from sklearn.feature_selection import SelectFromModel\n",
    "\n",
    "# sel = SelectFromModel(RandomForestClassifier(n_estimators = 100))\n",
    "# sel.fit(X_train, y_train)"
   ]
  },
  {
   "cell_type": "code",
   "execution_count": 19,
   "id": "944946ea",
   "metadata": {},
   "outputs": [],
   "source": [
    "# selected_feat = X_train.columns[(sel.get_support())]\n",
    "# print(selected_feat)"
   ]
  },
  {
   "cell_type": "code",
   "execution_count": 20,
   "id": "2ae05379",
   "metadata": {},
   "outputs": [],
   "source": [
    "# len(selected_feat)"
   ]
  },
  {
   "cell_type": "code",
   "execution_count": 22,
   "id": "f8d55fbc",
   "metadata": {},
   "outputs": [],
   "source": [
    "selected_feat = ['bwd_header_len', 'bwd_pkt_len_mean','bwd_pkt_len_std', \n",
    "       'dst_port', 'flow_duration', 'flow_iat_max','flow_iat_mean', \n",
    "       'flow_iat_min', 'flow_pkts_s', 'fwd_header_len',\n",
    "       'fwd_iat_max', 'fwd_iat_mean', 'fwd_iat_min', 'fwd_iat_tot',\n",
    "       'fwd_pkt_len_max', 'fwd_pkt_len_mean', 'fwd_pkt_len_std', 'fwd_pkts_s',\n",
    "       'fwd_seg_size_avg', 'fwd_seg_size_min', 'init_fwd_win_byts',\n",
    "       'pkt_size_avg', 'subflow_fwd_byts', 'totlen_fwd_pkts', 'tot_bwd_pkts']"
   ]
  },
  {
   "cell_type": "code",
   "execution_count": 23,
   "id": "a4247ef5",
   "metadata": {},
   "outputs": [
    {
     "data": {
      "text/plain": [
       "(12590776, 25)"
      ]
     },
     "execution_count": 23,
     "metadata": {},
     "output_type": "execute_result"
    }
   ],
   "source": [
    "X_train = training_data[selected_feat]\n",
    "X_train.shape"
   ]
  },
  {
   "cell_type": "code",
   "execution_count": 24,
   "id": "54de7686",
   "metadata": {},
   "outputs": [
    {
     "data": {
      "text/plain": [
       "(3147694, 25)"
      ]
     },
     "execution_count": 24,
     "metadata": {},
     "output_type": "execute_result"
    }
   ],
   "source": [
    "X_test = testing_data[selected_feat]\n",
    "X_test.shape"
   ]
  },
  {
   "cell_type": "code",
   "execution_count": 25,
   "id": "dd0fbff9",
   "metadata": {},
   "outputs": [
    {
     "name": "stdout",
     "output_type": "stream",
     "text": [
      "(12590776, 25)\n",
      "(3147694, 25)\n",
      "(12590776, 2)\n",
      "(3147694, 2)\n"
     ]
    }
   ],
   "source": [
    "print(X_train.shape)\n",
    "print(X_test.shape)\n",
    "print(y_train.shape)\n",
    "print(y_test.shape)"
   ]
  },
  {
   "cell_type": "code",
   "execution_count": 26,
   "id": "9d148d35",
   "metadata": {},
   "outputs": [
    {
     "data": {
      "text/plain": [
       "57"
      ]
     },
     "execution_count": 26,
     "metadata": {},
     "output_type": "execute_result"
    }
   ],
   "source": [
    "del network_data\n",
    "gc.collect()"
   ]
  },
  {
   "cell_type": "code",
   "execution_count": 27,
   "id": "e1d184bb",
   "metadata": {},
   "outputs": [],
   "source": [
    "del training_data,testing_data,target_train,target_test"
   ]
  },
  {
   "cell_type": "code",
   "execution_count": 28,
   "id": "90109aa8",
   "metadata": {},
   "outputs": [
    {
     "data": {
      "text/plain": [
       "0"
      ]
     },
     "execution_count": 28,
     "metadata": {},
     "output_type": "execute_result"
    }
   ],
   "source": [
    "gc.collect()"
   ]
  },
  {
   "cell_type": "markdown",
   "id": "374768bb",
   "metadata": {},
   "source": [
    "# XGBoost (XGB-2C)"
   ]
  },
  {
   "cell_type": "code",
   "execution_count": 29,
   "id": "71008acc",
   "metadata": {},
   "outputs": [],
   "source": [
    "from xgboost import XGBClassifier"
   ]
  },
  {
   "cell_type": "code",
   "execution_count": 59,
   "id": "94857060",
   "metadata": {},
   "outputs": [
    {
     "name": "stdout",
     "output_type": "stream",
     "text": [
      "[18:48:02] WARNING: C:/buildkite-agent/builds/buildkite-windows-cpu-autoscaling-group-i-030221e36e1a46bfb-1/xgboost/xgboost-ci-windows/src/learner.cc:767: \n",
      "Parameters: { \"min_samples_split\" } are not used.\n",
      "\n",
      "Wall time: 58min 48s\n"
     ]
    },
    {
     "data": {
      "text/html": [
       "<style>#sk-container-id-1 {color: black;background-color: white;}#sk-container-id-1 pre{padding: 0;}#sk-container-id-1 div.sk-toggleable {background-color: white;}#sk-container-id-1 label.sk-toggleable__label {cursor: pointer;display: block;width: 100%;margin-bottom: 0;padding: 0.3em;box-sizing: border-box;text-align: center;}#sk-container-id-1 label.sk-toggleable__label-arrow:before {content: \"▸\";float: left;margin-right: 0.25em;color: #696969;}#sk-container-id-1 label.sk-toggleable__label-arrow:hover:before {color: black;}#sk-container-id-1 div.sk-estimator:hover label.sk-toggleable__label-arrow:before {color: black;}#sk-container-id-1 div.sk-toggleable__content {max-height: 0;max-width: 0;overflow: hidden;text-align: left;background-color: #f0f8ff;}#sk-container-id-1 div.sk-toggleable__content pre {margin: 0.2em;color: black;border-radius: 0.25em;background-color: #f0f8ff;}#sk-container-id-1 input.sk-toggleable__control:checked~div.sk-toggleable__content {max-height: 200px;max-width: 100%;overflow: auto;}#sk-container-id-1 input.sk-toggleable__control:checked~label.sk-toggleable__label-arrow:before {content: \"▾\";}#sk-container-id-1 div.sk-estimator input.sk-toggleable__control:checked~label.sk-toggleable__label {background-color: #d4ebff;}#sk-container-id-1 div.sk-label input.sk-toggleable__control:checked~label.sk-toggleable__label {background-color: #d4ebff;}#sk-container-id-1 input.sk-hidden--visually {border: 0;clip: rect(1px 1px 1px 1px);clip: rect(1px, 1px, 1px, 1px);height: 1px;margin: -1px;overflow: hidden;padding: 0;position: absolute;width: 1px;}#sk-container-id-1 div.sk-estimator {font-family: monospace;background-color: #f0f8ff;border: 1px dotted black;border-radius: 0.25em;box-sizing: border-box;margin-bottom: 0.5em;}#sk-container-id-1 div.sk-estimator:hover {background-color: #d4ebff;}#sk-container-id-1 div.sk-parallel-item::after {content: \"\";width: 100%;border-bottom: 1px solid gray;flex-grow: 1;}#sk-container-id-1 div.sk-label:hover label.sk-toggleable__label {background-color: #d4ebff;}#sk-container-id-1 div.sk-serial::before {content: \"\";position: absolute;border-left: 1px solid gray;box-sizing: border-box;top: 0;bottom: 0;left: 50%;z-index: 0;}#sk-container-id-1 div.sk-serial {display: flex;flex-direction: column;align-items: center;background-color: white;padding-right: 0.2em;padding-left: 0.2em;position: relative;}#sk-container-id-1 div.sk-item {position: relative;z-index: 1;}#sk-container-id-1 div.sk-parallel {display: flex;align-items: stretch;justify-content: center;background-color: white;position: relative;}#sk-container-id-1 div.sk-item::before, #sk-container-id-1 div.sk-parallel-item::before {content: \"\";position: absolute;border-left: 1px solid gray;box-sizing: border-box;top: 0;bottom: 0;left: 50%;z-index: -1;}#sk-container-id-1 div.sk-parallel-item {display: flex;flex-direction: column;z-index: 1;position: relative;background-color: white;}#sk-container-id-1 div.sk-parallel-item:first-child::after {align-self: flex-end;width: 50%;}#sk-container-id-1 div.sk-parallel-item:last-child::after {align-self: flex-start;width: 50%;}#sk-container-id-1 div.sk-parallel-item:only-child::after {width: 0;}#sk-container-id-1 div.sk-dashed-wrapped {border: 1px dashed gray;margin: 0 0.4em 0.5em 0.4em;box-sizing: border-box;padding-bottom: 0.4em;background-color: white;}#sk-container-id-1 div.sk-label label {font-family: monospace;font-weight: bold;display: inline-block;line-height: 1.2em;}#sk-container-id-1 div.sk-label-container {text-align: center;}#sk-container-id-1 div.sk-container {/* jupyter's `normalize.less` sets `[hidden] { display: none; }` but bootstrap.min.css set `[hidden] { display: none !important; }` so we also need the `!important` here to be able to override the default hidden behavior on the sphinx rendered scikit-learn.org. See: https://github.com/scikit-learn/scikit-learn/issues/21755 */display: inline-block !important;position: relative;}#sk-container-id-1 div.sk-text-repr-fallback {display: none;}</style><div id=\"sk-container-id-1\" class=\"sk-top-container\"><div class=\"sk-text-repr-fallback\"><pre>XGBClassifier(base_score=0.5, booster=&#x27;gbtree&#x27;, callbacks=None,\n",
       "              colsample_bylevel=1, colsample_bynode=1, colsample_bytree=1,\n",
       "              early_stopping_rounds=None, enable_categorical=False,\n",
       "              eval_metric=None, feature_types=None, gamma=0, gpu_id=-1,\n",
       "              grow_policy=&#x27;depthwise&#x27;, importance_type=None,\n",
       "              interaction_constraints=&#x27;&#x27;, learning_rate=0.300000012,\n",
       "              max_bin=256, max_cat_threshold=64, max_cat_to_onehot=4,\n",
       "              max_delta_step=0, max_depth=10, max_leaves=0, min_child_weight=1,\n",
       "              min_samples_split=254, missing=nan, monotone_constraints=&#x27;()&#x27;,\n",
       "              n_estimators=1900, n_jobs=-1, num_parallel_tree=1,\n",
       "              predictor=&#x27;auto&#x27;, ...)</pre><b>In a Jupyter environment, please rerun this cell to show the HTML representation or trust the notebook. <br />On GitHub, the HTML representation is unable to render, please try loading this page with nbviewer.org.</b></div><div class=\"sk-container\" hidden><div class=\"sk-item\"><div class=\"sk-estimator sk-toggleable\"><input class=\"sk-toggleable__control sk-hidden--visually\" id=\"sk-estimator-id-1\" type=\"checkbox\" checked><label for=\"sk-estimator-id-1\" class=\"sk-toggleable__label sk-toggleable__label-arrow\">XGBClassifier</label><div class=\"sk-toggleable__content\"><pre>XGBClassifier(base_score=0.5, booster=&#x27;gbtree&#x27;, callbacks=None,\n",
       "              colsample_bylevel=1, colsample_bynode=1, colsample_bytree=1,\n",
       "              early_stopping_rounds=None, enable_categorical=False,\n",
       "              eval_metric=None, feature_types=None, gamma=0, gpu_id=-1,\n",
       "              grow_policy=&#x27;depthwise&#x27;, importance_type=None,\n",
       "              interaction_constraints=&#x27;&#x27;, learning_rate=0.300000012,\n",
       "              max_bin=256, max_cat_threshold=64, max_cat_to_onehot=4,\n",
       "              max_delta_step=0, max_depth=10, max_leaves=0, min_child_weight=1,\n",
       "              min_samples_split=254, missing=nan, monotone_constraints=&#x27;()&#x27;,\n",
       "              n_estimators=1900, n_jobs=-1, num_parallel_tree=1,\n",
       "              predictor=&#x27;auto&#x27;, ...)</pre></div></div></div></div></div>"
      ],
      "text/plain": [
       "XGBClassifier(base_score=0.5, booster='gbtree', callbacks=None,\n",
       "              colsample_bylevel=1, colsample_bynode=1, colsample_bytree=1,\n",
       "              early_stopping_rounds=None, enable_categorical=False,\n",
       "              eval_metric=None, feature_types=None, gamma=0, gpu_id=-1,\n",
       "              grow_policy='depthwise', importance_type=None,\n",
       "              interaction_constraints='', learning_rate=0.300000012,\n",
       "              max_bin=256, max_cat_threshold=64, max_cat_to_onehot=4,\n",
       "              max_delta_step=0, max_depth=10, max_leaves=0, min_child_weight=1,\n",
       "              min_samples_split=254, missing=nan, monotone_constraints='()',\n",
       "              n_estimators=1900, n_jobs=-1, num_parallel_tree=1,\n",
       "              predictor='auto', ...)"
      ]
     },
     "execution_count": 59,
     "metadata": {},
     "output_type": "execute_result"
    }
   ],
   "source": [
    "%%time\n",
    "# Import the necessary libraries\n",
    "from xgboost import XGBClassifier\n",
    "\n",
    "\n",
    "# model3 = XGBClassifier(n_estimators = 1900,\n",
    "#                         max_depth = 10,\n",
    "#                         reg_lambda = 4.8139,\n",
    "#                         min_samples_split = 254,\n",
    "#                         random_state = 5, tree_method = 'hist',n_jobs = -1)\n",
    "\n",
    "# model3.fit(X_train, y_train)"
   ]
  },
  {
   "cell_type": "code",
   "execution_count": 60,
   "id": "0c56adf1",
   "metadata": {},
   "outputs": [],
   "source": [
    "# import pickle\n",
    "\n",
    "# with open('D:/GIU/Semester 7/Bachelor Thesis/Project Code/models/XGB_V5.3.2.pkl','wb') as file:\n",
    "#     pickle.dump(model3,file)"
   ]
  },
  {
   "cell_type": "code",
   "execution_count": 30,
   "id": "6ff30256",
   "metadata": {},
   "outputs": [],
   "source": [
    "import pickle\n",
    "\n",
    "with open('D:/GIU/Semester 7/Bachelor Thesis/Project Code/models/XGB_V5.3.2.pkl','rb') as f:\n",
    "    model3 = pickle.load(f)"
   ]
  },
  {
   "cell_type": "code",
   "execution_count": 31,
   "id": "17cfbb9b",
   "metadata": {},
   "outputs": [
    {
     "name": "stdout",
     "output_type": "stream",
     "text": [
      "Wall time: 1min 6s\n"
     ]
    }
   ],
   "source": [
    "%%time\n",
    "Y_test_pred3 = model3.predict(X_test)"
   ]
  },
  {
   "cell_type": "code",
   "execution_count": 32,
   "id": "b6f0193a",
   "metadata": {},
   "outputs": [
    {
     "name": "stdout",
     "output_type": "stream",
     "text": [
      "Test score is: 0.9903627862174659\n"
     ]
    }
   ],
   "source": [
    "test_accuracy = model3.score(X_test,y_test)\n",
    "print(\"Test score is:\",test_accuracy)"
   ]
  },
  {
   "cell_type": "code",
   "execution_count": 33,
   "id": "d5904723",
   "metadata": {},
   "outputs": [
    {
     "data": {
      "image/png": "[encoded data removed]",
      "text/plain": [
       "<Figure size 1080x1080 with 2 Axes>"
      ]
     },
     "metadata": {
      "needs_background": "light"
     },
     "output_type": "display_data"
    }
   ],
   "source": [
    "from sklearn.metrics import accuracy_score, confusion_matrix, precision_recall_fscore_support,  roc_curve, auc\n",
    "import tensorflow as tf \n",
    "#model = tf.keras.models.load_model('/'+model_name+'.h5')\n",
    "\n",
    "y_pred = model3.predict(X_test)\n",
    "\n",
    "y_pred_cm  = np.argmax(y_pred, axis=1)\n",
    "y_test_cm  = np.argmax(y_test, axis=1)\n",
    "\n",
    "cm = confusion_matrix(y_test_cm, y_pred_cm) \n",
    "\n",
    "group_counts = [\"{0:0.0f}\".format(value) for value in cm.flatten()]\n",
    "\n",
    "group_percentages = [\"{0:.2%}\".format(value) for value in cm.flatten()/np.sum(cm)]\n",
    "\n",
    "labels = [f\"{v1}\\n{v2}\" for v1, v2 in zip(group_counts,group_percentages)]\n",
    "\n",
    "labels = np.asarray(labels).reshape(2,2)\n",
    "\n",
    "label = ['Benign','Malicious']\n",
    "\n",
    "plt.figure(figsize=(15,15))\n",
    "sns.heatmap(cm, xticklabels=label, yticklabels=label, annot=labels, fmt='', cmap=\"Blues\", vmin = 0.2);\n",
    "# plt.title('Confusion Matrix for'+ modelName+' model')\n",
    "plt.ylabel('True Class')\n",
    "plt.xlabel('Predicted Class')\n",
    "# plt.savefig('./'+modelName+'_CM.png')\n",
    "plt.show()"
   ]
  },
  {
   "cell_type": "code",
   "execution_count": 34,
   "id": "eeaa677d",
   "metadata": {},
   "outputs": [
    {
     "name": "stdout",
     "output_type": "stream",
     "text": [
      "              precision    recall  f1-score   support\n",
      "\n",
      "      Benign    0.98940   0.99958   0.99446   2677013\n",
      "   Malicious    0.99745   0.93907   0.96738    470681\n",
      "\n",
      "    accuracy                        0.99053   3147694\n",
      "   macro avg    0.99342   0.96932   0.98092   3147694\n",
      "weighted avg    0.99060   0.99053   0.99041   3147694\n",
      "\n",
      "Test: accuracy = 0.990363  \n"
     ]
    }
   ],
   "source": [
    "from sklearn.metrics import classification_report\n",
    "\n",
    "\n",
    "\n",
    "print(classification_report(y_test_cm, y_pred_cm, target_names= label,digits=5))\n",
    "                            \n",
    "# accuracy = model3.score(X_test,y_test)\n",
    "accuracy = test_accuracy\n",
    "print(\"Test: accuracy = %f  \" % (accuracy))"
   ]
  },
  {
   "cell_type": "markdown",
   "id": "6f553095",
   "metadata": {},
   "source": [
    "# Random Forest (RF-2C)"
   ]
  },
  {
   "cell_type": "code",
   "execution_count": 60,
   "id": "cf3c05dc",
   "metadata": {},
   "outputs": [
    {
     "name": "stdout",
     "output_type": "stream",
     "text": [
      "Wall time: 1h 52min 9s\n"
     ]
    },
    {
     "data": {
      "text/html": [
       "<style>#sk-container-id-1 {color: black;background-color: white;}#sk-container-id-1 pre{padding: 0;}#sk-container-id-1 div.sk-toggleable {background-color: white;}#sk-container-id-1 label.sk-toggleable__label {cursor: pointer;display: block;width: 100%;margin-bottom: 0;padding: 0.3em;box-sizing: border-box;text-align: center;}#sk-container-id-1 label.sk-toggleable__label-arrow:before {content: \"▸\";float: left;margin-right: 0.25em;color: #696969;}#sk-container-id-1 label.sk-toggleable__label-arrow:hover:before {color: black;}#sk-container-id-1 div.sk-estimator:hover label.sk-toggleable__label-arrow:before {color: black;}#sk-container-id-1 div.sk-toggleable__content {max-height: 0;max-width: 0;overflow: hidden;text-align: left;background-color: #f0f8ff;}#sk-container-id-1 div.sk-toggleable__content pre {margin: 0.2em;color: black;border-radius: 0.25em;background-color: #f0f8ff;}#sk-container-id-1 input.sk-toggleable__control:checked~div.sk-toggleable__content {max-height: 200px;max-width: 100%;overflow: auto;}#sk-container-id-1 input.sk-toggleable__control:checked~label.sk-toggleable__label-arrow:before {content: \"▾\";}#sk-container-id-1 div.sk-estimator input.sk-toggleable__control:checked~label.sk-toggleable__label {background-color: #d4ebff;}#sk-container-id-1 div.sk-label input.sk-toggleable__control:checked~label.sk-toggleable__label {background-color: #d4ebff;}#sk-container-id-1 input.sk-hidden--visually {border: 0;clip: rect(1px 1px 1px 1px);clip: rect(1px, 1px, 1px, 1px);height: 1px;margin: -1px;overflow: hidden;padding: 0;position: absolute;width: 1px;}#sk-container-id-1 div.sk-estimator {font-family: monospace;background-color: #f0f8ff;border: 1px dotted black;border-radius: 0.25em;box-sizing: border-box;margin-bottom: 0.5em;}#sk-container-id-1 div.sk-estimator:hover {background-color: #d4ebff;}#sk-container-id-1 div.sk-parallel-item::after {content: \"\";width: 100%;border-bottom: 1px solid gray;flex-grow: 1;}#sk-container-id-1 div.sk-label:hover label.sk-toggleable__label {background-color: #d4ebff;}#sk-container-id-1 div.sk-serial::before {content: \"\";position: absolute;border-left: 1px solid gray;box-sizing: border-box;top: 0;bottom: 0;left: 50%;z-index: 0;}#sk-container-id-1 div.sk-serial {display: flex;flex-direction: column;align-items: center;background-color: white;padding-right: 0.2em;padding-left: 0.2em;position: relative;}#sk-container-id-1 div.sk-item {position: relative;z-index: 1;}#sk-container-id-1 div.sk-parallel {display: flex;align-items: stretch;justify-content: center;background-color: white;position: relative;}#sk-container-id-1 div.sk-item::before, #sk-container-id-1 div.sk-parallel-item::before {content: \"\";position: absolute;border-left: 1px solid gray;box-sizing: border-box;top: 0;bottom: 0;left: 50%;z-index: -1;}#sk-container-id-1 div.sk-parallel-item {display: flex;flex-direction: column;z-index: 1;position: relative;background-color: white;}#sk-container-id-1 div.sk-parallel-item:first-child::after {align-self: flex-end;width: 50%;}#sk-container-id-1 div.sk-parallel-item:last-child::after {align-self: flex-start;width: 50%;}#sk-container-id-1 div.sk-parallel-item:only-child::after {width: 0;}#sk-container-id-1 div.sk-dashed-wrapped {border: 1px dashed gray;margin: 0 0.4em 0.5em 0.4em;box-sizing: border-box;padding-bottom: 0.4em;background-color: white;}#sk-container-id-1 div.sk-label label {font-family: monospace;font-weight: bold;display: inline-block;line-height: 1.2em;}#sk-container-id-1 div.sk-label-container {text-align: center;}#sk-container-id-1 div.sk-container {/* jupyter's `normalize.less` sets `[hidden] { display: none; }` but bootstrap.min.css set `[hidden] { display: none !important; }` so we also need the `!important` here to be able to override the default hidden behavior on the sphinx rendered scikit-learn.org. See: https://github.com/scikit-learn/scikit-learn/issues/21755 */display: inline-block !important;position: relative;}#sk-container-id-1 div.sk-text-repr-fallback {display: none;}</style><div id=\"sk-container-id-1\" class=\"sk-top-container\"><div class=\"sk-text-repr-fallback\"><pre>RandomForestClassifier(n_estimators=150, n_jobs=-1)</pre><b>In a Jupyter environment, please rerun this cell to show the HTML representation or trust the notebook. <br />On GitHub, the HTML representation is unable to render, please try loading this page with nbviewer.org.</b></div><div class=\"sk-container\" hidden><div class=\"sk-item\"><div class=\"sk-estimator sk-toggleable\"><input class=\"sk-toggleable__control sk-hidden--visually\" id=\"sk-estimator-id-1\" type=\"checkbox\" checked><label for=\"sk-estimator-id-1\" class=\"sk-toggleable__label sk-toggleable__label-arrow\">RandomForestClassifier</label><div class=\"sk-toggleable__content\"><pre>RandomForestClassifier(n_estimators=150, n_jobs=-1)</pre></div></div></div></div></div>"
      ],
      "text/plain": [
       "RandomForestClassifier(n_estimators=150, n_jobs=-1)"
      ]
     },
     "execution_count": 60,
     "metadata": {},
     "output_type": "execute_result"
    }
   ],
   "source": [
    "# %%time\n",
    "# #RANDOM FOREST\n",
    "# model3 = RandomForestClassifier(n_estimators=150,n_jobs=-1 )\n",
    "# model3.fit(X_train, y_train)"
   ]
  },
  {
   "cell_type": "code",
   "execution_count": null,
   "id": "cb742666",
   "metadata": {},
   "outputs": [],
   "source": [
    "# import pickle\n",
    "\n",
    "# with open('D:/GIU/Semester 7/Bachelor Thesis/Project Code/models/RF_V5.3.2.pkl','wb') as file:\n",
    "#     pickle.dump(model3,file)"
   ]
  },
  {
   "cell_type": "code",
   "execution_count": null,
   "id": "fdd10fa7",
   "metadata": {},
   "outputs": [],
   "source": [
    "import pickle\n",
    "\n",
    "with open('D:/GIU/Semester 7/Bachelor Thesis/Project Code/models/RF_V5.3.2.pkl','rb') as f:\n",
    "    model3 = pickle.load(f)"
   ]
  },
  {
   "cell_type": "code",
   "execution_count": 27,
   "id": "168ce339",
   "metadata": {},
   "outputs": [
    {
     "name": "stdout",
     "output_type": "stream",
     "text": [
      "Wall time: 1min 4s\n"
     ]
    }
   ],
   "source": [
    "%%time\n",
    "Y_test_pred3 = model3.predict(X_test)"
   ]
  },
  {
   "cell_type": "code",
   "execution_count": 28,
   "id": "8e4adacb",
   "metadata": {},
   "outputs": [
    {
     "name": "stdout",
     "output_type": "stream",
     "text": [
      "Test score is: 0.9933220954768792\n"
     ]
    }
   ],
   "source": [
    "test_accuracy = model3.score(X_test,y_test)\n",
    "print(\"Test score is:\",test_accuracy)"
   ]
  },
  {
   "cell_type": "code",
   "execution_count": 29,
   "id": "d9db1462",
   "metadata": {
    "scrolled": false
   },
   "outputs": [
    {
     "data": {
      "image/png": "[encoded data removed]",
      "text/plain": [
       "<Figure size 1080x1080 with 2 Axes>"
      ]
     },
     "metadata": {
      "needs_background": "light"
     },
     "output_type": "display_data"
    }
   ],
   "source": [
    "from sklearn.metrics import accuracy_score, confusion_matrix, precision_recall_fscore_support,  roc_curve, auc\n",
    "import tensorflow as tf \n",
    "#model = tf.keras.models.load_model('/'+model_name+'.h5')\n",
    "\n",
    "y_pred = Y_test_pred3\n",
    "\n",
    "y_pred_cm  = np.argmax(y_pred, axis=1)\n",
    "y_test_cm  = np.argmax(y_test, axis=1)\n",
    "\n",
    "cm = confusion_matrix(y_test_cm, y_pred_cm) \n",
    "\n",
    "group_counts = [\"{0:0.0f}\".format(value) for value in cm.flatten()]\n",
    "\n",
    "group_percentages = [\"{0:.2%}\".format(value) for value in cm.flatten()/np.sum(cm)]\n",
    "\n",
    "labels = [f\"{v1}\\n{v2}\" for v1, v2 in zip(group_counts,group_percentages)]\n",
    "\n",
    "labels = np.asarray(labels).reshape(2,2)\n",
    "\n",
    "label = ['Benign','Malicious']\n",
    "\n",
    "plt.figure(figsize=(15,15))\n",
    "sns.heatmap(cm, xticklabels=label, yticklabels=label, annot=labels, fmt='', cmap=\"Blues\", vmin = 0.2);\n",
    "# plt.title('Confusion Matrix for'+ modelName+' model')\n",
    "plt.ylabel('True Class')\n",
    "plt.xlabel('Predicted Class')\n",
    "# plt.savefig('./'+modelName+'_CM.png')\n",
    "plt.show()"
   ]
  },
  {
   "cell_type": "code",
   "execution_count": 30,
   "id": "5ebbfc06",
   "metadata": {
    "scrolled": true
   },
   "outputs": [
    {
     "name": "stdout",
     "output_type": "stream",
     "text": [
      "              precision    recall  f1-score   support\n",
      "\n",
      "      Benign    0.99314   0.99905   0.99609   2677013\n",
      "   Malicious    0.99441   0.96076   0.97730    470681\n",
      "\n",
      "    accuracy                        0.99332   3147694\n",
      "   macro avg    0.99378   0.97991   0.98669   3147694\n",
      "weighted avg    0.99333   0.99332   0.99328   3147694\n",
      "\n",
      "Test: accuracy = 0.993322  \n"
     ]
    }
   ],
   "source": [
    "from sklearn.metrics import classification_report\n",
    "\n",
    "\n",
    "\n",
    "print(classification_report(y_test_cm, y_pred_cm, target_names= label,digits=5))\n",
    "                            \n",
    "# accuracy = model3.score(X_test,y_test)\n",
    "accuracy = test_accuracy\n",
    "print(\"Test: accuracy = %f  \" % (accuracy))"
   ]
  },
  {
   "cell_type": "markdown",
   "id": "a672f5bb",
   "metadata": {},
   "source": [
    "# CNN (CNN-2C)"
   ]
  },
  {
   "cell_type": "code",
   "execution_count": 117,
   "id": "6460bab7",
   "metadata": {
    "scrolled": true
   },
   "outputs": [
    {
     "data": {
      "text/html": [
       "<div>\n",
       "<style scoped>\n",
       "    .dataframe tbody tr th:only-of-type {\n",
       "        vertical-align: middle;\n",
       "    }\n",
       "\n",
       "    .dataframe tbody tr th {\n",
       "        vertical-align: top;\n",
       "    }\n",
       "\n",
       "    .dataframe thead th {\n",
       "        text-align: right;\n",
       "    }\n",
       "</style>\n",
       "<table border=\"1\" class=\"dataframe\">\n",
       "  <thead>\n",
       "    <tr style=\"text-align: right;\">\n",
       "      <th></th>\n",
       "      <th>0</th>\n",
       "      <th>1</th>\n",
       "      <th>2</th>\n",
       "      <th>3</th>\n",
       "      <th>4</th>\n",
       "      <th>5</th>\n",
       "      <th>6</th>\n",
       "      <th>7</th>\n",
       "      <th>8</th>\n",
       "      <th>9</th>\n",
       "      <th>...</th>\n",
       "      <th>15</th>\n",
       "      <th>16</th>\n",
       "      <th>17</th>\n",
       "      <th>18</th>\n",
       "      <th>19</th>\n",
       "      <th>20</th>\n",
       "      <th>21</th>\n",
       "      <th>22</th>\n",
       "      <th>23</th>\n",
       "      <th>24</th>\n",
       "    </tr>\n",
       "  </thead>\n",
       "  <tbody>\n",
       "    <tr>\n",
       "      <th>0</th>\n",
       "      <td>0.035647</td>\n",
       "      <td>1.899609</td>\n",
       "      <td>2.405804</td>\n",
       "      <td>-0.463829</td>\n",
       "      <td>0.099503</td>\n",
       "      <td>0.081653</td>\n",
       "      <td>-0.002948</td>\n",
       "      <td>-0.003703</td>\n",
       "      <td>-0.151444</td>\n",
       "      <td>-0.002324</td>\n",
       "      <td>...</td>\n",
       "      <td>0.024371</td>\n",
       "      <td>0.034152</td>\n",
       "      <td>-0.135099</td>\n",
       "      <td>0.024371</td>\n",
       "      <td>0.348355</td>\n",
       "      <td>-0.021717</td>\n",
       "      <td>1.452191</td>\n",
       "      <td>-0.007664</td>\n",
       "      <td>-0.007664</td>\n",
       "      <td>0.034024</td>\n",
       "    </tr>\n",
       "    <tr>\n",
       "      <th>1</th>\n",
       "      <td>-0.039650</td>\n",
       "      <td>-0.324565</td>\n",
       "      <td>-0.658880</td>\n",
       "      <td>-0.484394</td>\n",
       "      <td>-0.026014</td>\n",
       "      <td>-0.010581</td>\n",
       "      <td>-0.013528</td>\n",
       "      <td>-0.003702</td>\n",
       "      <td>-0.143237</td>\n",
       "      <td>-0.020539</td>\n",
       "      <td>...</td>\n",
       "      <td>-0.277977</td>\n",
       "      <td>-0.621483</td>\n",
       "      <td>-0.130685</td>\n",
       "      <td>-0.277977</td>\n",
       "      <td>-1.330477</td>\n",
       "      <td>-0.525638</td>\n",
       "      <td>-0.237796</td>\n",
       "      <td>-0.018453</td>\n",
       "      <td>-0.018453</td>\n",
       "      <td>-0.033695</td>\n",
       "    </tr>\n",
       "    <tr>\n",
       "      <th>2</th>\n",
       "      <td>0.088726</td>\n",
       "      <td>-0.311593</td>\n",
       "      <td>0.524473</td>\n",
       "      <td>-0.482970</td>\n",
       "      <td>0.220465</td>\n",
       "      <td>0.005234</td>\n",
       "      <td>0.002235</td>\n",
       "      <td>-0.003703</td>\n",
       "      <td>-0.151445</td>\n",
       "      <td>0.005808</td>\n",
       "      <td>...</td>\n",
       "      <td>-0.381909</td>\n",
       "      <td>0.329408</td>\n",
       "      <td>-0.135099</td>\n",
       "      <td>-0.381909</td>\n",
       "      <td>0.348355</td>\n",
       "      <td>-0.021717</td>\n",
       "      <td>-0.429268</td>\n",
       "      <td>-0.010166</td>\n",
       "      <td>-0.010166</td>\n",
       "      <td>0.046337</td>\n",
       "    </tr>\n",
       "    <tr>\n",
       "      <th>3</th>\n",
       "      <td>-0.042119</td>\n",
       "      <td>-0.705939</td>\n",
       "      <td>-0.658880</td>\n",
       "      <td>-0.482970</td>\n",
       "      <td>0.040305</td>\n",
       "      <td>0.038536</td>\n",
       "      <td>0.109398</td>\n",
       "      <td>0.042106</td>\n",
       "      <td>-0.151446</td>\n",
       "      <td>-0.017937</td>\n",
       "      <td>...</td>\n",
       "      <td>-0.854233</td>\n",
       "      <td>-0.621483</td>\n",
       "      <td>-0.135100</td>\n",
       "      <td>-0.854233</td>\n",
       "      <td>0.348355</td>\n",
       "      <td>-0.399550</td>\n",
       "      <td>-0.849953</td>\n",
       "      <td>-0.019137</td>\n",
       "      <td>-0.019137</td>\n",
       "      <td>-0.039852</td>\n",
       "    </tr>\n",
       "    <tr>\n",
       "      <th>4</th>\n",
       "      <td>-0.013728</td>\n",
       "      <td>0.709078</td>\n",
       "      <td>1.610802</td>\n",
       "      <td>-0.482970</td>\n",
       "      <td>-0.025974</td>\n",
       "      <td>-0.010561</td>\n",
       "      <td>-0.013519</td>\n",
       "      <td>-0.003703</td>\n",
       "      <td>-0.149826</td>\n",
       "      <td>-0.015335</td>\n",
       "      <td>...</td>\n",
       "      <td>0.847096</td>\n",
       "      <td>0.900542</td>\n",
       "      <td>-0.134353</td>\n",
       "      <td>0.847096</td>\n",
       "      <td>0.348355</td>\n",
       "      <td>3.505238</td>\n",
       "      <td>0.787288</td>\n",
       "      <td>-0.013078</td>\n",
       "      <td>-0.013078</td>\n",
       "      <td>-0.015226</td>\n",
       "    </tr>\n",
       "  </tbody>\n",
       "</table>\n",
       "<p>5 rows × 25 columns</p>\n",
       "</div>"
      ],
      "text/plain": [
       "         0         1         2         3         4         5         6   \\\n",
       "0  0.035647  1.899609  2.405804 -0.463829  0.099503  0.081653 -0.002948   \n",
       "1 -0.039650 -0.324565 -0.658880 -0.484394 -0.026014 -0.010581 -0.013528   \n",
       "2  0.088726 -0.311593  0.524473 -0.482970  0.220465  0.005234  0.002235   \n",
       "3 -0.042119 -0.705939 -0.658880 -0.482970  0.040305  0.038536  0.109398   \n",
       "4 -0.013728  0.709078  1.610802 -0.482970 -0.025974 -0.010561 -0.013519   \n",
       "\n",
       "         7         8         9   ...        15        16        17        18  \\\n",
       "0 -0.003703 -0.151444 -0.002324  ...  0.024371  0.034152 -0.135099  0.024371   \n",
       "1 -0.003702 -0.143237 -0.020539  ... -0.277977 -0.621483 -0.130685 -0.277977   \n",
       "2 -0.003703 -0.151445  0.005808  ... -0.381909  0.329408 -0.135099 -0.381909   \n",
       "3  0.042106 -0.151446 -0.017937  ... -0.854233 -0.621483 -0.135100 -0.854233   \n",
       "4 -0.003703 -0.149826 -0.015335  ...  0.847096  0.900542 -0.134353  0.847096   \n",
       "\n",
       "         19        20        21        22        23        24  \n",
       "0  0.348355 -0.021717  1.452191 -0.007664 -0.007664  0.034024  \n",
       "1 -1.330477 -0.525638 -0.237796 -0.018453 -0.018453 -0.033695  \n",
       "2  0.348355 -0.021717 -0.429268 -0.010166 -0.010166  0.046337  \n",
       "3  0.348355 -0.399550 -0.849953 -0.019137 -0.019137 -0.039852  \n",
       "4  0.348355  3.505238  0.787288 -0.013078 -0.013078 -0.015226  \n",
       "\n",
       "[5 rows x 25 columns]"
      ]
     },
     "execution_count": 117,
     "metadata": {},
     "output_type": "execute_result"
    }
   ],
   "source": [
    "from sklearn import preprocessing\n",
    "from sklearn.preprocessing import StandardScaler\n",
    "\n",
    "\n",
    "scaler = StandardScaler()\n",
    "\n",
    "scalar1 = scaler.fit_transform(X_train)\n",
    "scalar2 = scaler.fit_transform(X_test)\n",
    "\n",
    "X_train = pd.DataFrame(scalar1)\n",
    "X_test = pd.DataFrame(scalar2)\n",
    "\n",
    "X_train.head()"
   ]
  },
  {
   "cell_type": "code",
   "execution_count": 118,
   "id": "cc3e6817",
   "metadata": {
    "scrolled": true
   },
   "outputs": [
    {
     "data": {
      "text/plain": [
       "((12590776, 25, 1), (3147694, 25, 1))"
      ]
     },
     "execution_count": 118,
     "metadata": {},
     "output_type": "execute_result"
    }
   ],
   "source": [
    "# reshape the data for CNN\n",
    "X_train = X_train.values\n",
    "X_test = X_test.values\n",
    "\n",
    "\n",
    "X_train = X_train.reshape(len(X_train), X_train.shape[1], 1)\n",
    "X_test = X_test.reshape(len(X_test), X_test.shape[1], 1)\n",
    "X_train.shape, X_test.shape"
   ]
  },
  {
   "cell_type": "code",
   "execution_count": null,
   "id": "7a066685",
   "metadata": {},
   "outputs": [],
   "source": [
    "X_test = np.asarray(X_test).astype('float32')\n",
    "y_test = np.asarray(y_test).astype('float32')\n",
    "X_train = np.asarray(X_train).astype('float32')\n",
    "y_train = np.asarray(y_train).astype('float32')"
   ]
  },
  {
   "cell_type": "code",
   "execution_count": null,
   "id": "6b64da44",
   "metadata": {},
   "outputs": [],
   "source": [
    "from keras.layers import Dense, Dropout, Activation, Lambda\n",
    "\n",
    "# making the deep learning function\n",
    "def model():\n",
    "    model = Sequential()\n",
    "    model.add(Conv1D(32,3,activation='relu',padding='same',kernel_initializer='he_uniform',input_shape=(X_train.shape[1], 1)))\n",
    "    model.add(Conv1D(32,3,activation='relu',padding='same',kernel_initializer='he_uniform'))\n",
    "    model.add(MaxPooling1D(pool_size=2,strides=2))\n",
    "    model.add(Dropout(0.2))\n",
    "    model.add(BatchNormalization())\n",
    "\n",
    "    model.add(Conv1D(64,3,activation='relu',padding='same',kernel_initializer='he_uniform'))\n",
    "    model.add(Conv1D(64,3,activation='relu',padding='same',kernel_initializer='he_uniform')) \n",
    "    model.add(MaxPooling1D(pool_size=2,strides=2))\n",
    "    model.add(Dropout(0.2))\n",
    "    model.add(BatchNormalization())    \n",
    "\n",
    "    model.add(Flatten())\n",
    "    model.add(Dense(32,activation='relu'))\n",
    "    model.add(Dense(2,activation='softmax'))\n",
    "    \n",
    "    model.compile(loss='binary_crossentropy', optimizer='adam', metrics=['accuracy'])\n",
    "    return model"
   ]
  },
  {
   "cell_type": "code",
   "execution_count": 47,
   "id": "ae0e18c0",
   "metadata": {
    "scrolled": false
   },
   "outputs": [
    {
     "name": "stdout",
     "output_type": "stream",
     "text": [
      "Model: \"sequential\"\n",
      "_________________________________________________________________\n",
      " Layer (type)                Output Shape              Param #   \n",
      "=================================================================\n",
      " conv1d (Conv1D)             (None, 25, 32)            128       \n",
      "                                                                 \n",
      " conv1d_1 (Conv1D)           (None, 25, 32)            3104      \n",
      "                                                                 \n",
      " max_pooling1d (MaxPooling1D  (None, 12, 32)           0         \n",
      " )                                                               \n",
      "                                                                 \n",
      " dropout (Dropout)           (None, 12, 32)            0         \n",
      "                                                                 \n",
      " batch_normalization (BatchN  (None, 12, 32)           128       \n",
      " ormalization)                                                   \n",
      "                                                                 \n",
      " conv1d_2 (Conv1D)           (None, 12, 64)            6208      \n",
      "                                                                 \n",
      " conv1d_3 (Conv1D)           (None, 12, 64)            12352     \n",
      "                                                                 \n",
      " max_pooling1d_1 (MaxPooling  (None, 6, 64)            0         \n",
      " 1D)                                                             \n",
      "                                                                 \n",
      " dropout_1 (Dropout)         (None, 6, 64)             0         \n",
      "                                                                 \n",
      " batch_normalization_1 (Batc  (None, 6, 64)            256       \n",
      " hNormalization)                                                 \n",
      "                                                                 \n",
      " flatten (Flatten)           (None, 384)               0         \n",
      "                                                                 \n",
      " dense (Dense)               (None, 32)                12320     \n",
      "                                                                 \n",
      " dense_1 (Dense)             (None, 2)                 66        \n",
      "                                                                 \n",
      "=================================================================\n",
      "Total params: 34,562\n",
      "Trainable params: 34,370\n",
      "Non-trainable params: 192\n",
      "_________________________________________________________________\n"
     ]
    }
   ],
   "source": [
    "model = model()\n",
    "model.summary()"
   ]
  },
  {
   "cell_type": "code",
   "execution_count": 39,
   "id": "a6cc8b56",
   "metadata": {
    "scrolled": true
   },
   "outputs": [
    {
     "name": "stdout",
     "output_type": "stream",
     "text": [
      "Epoch 1/25\n",
      "3074/3074 [==============================] - 634s 205ms/step - loss: 0.0620 - accuracy: 0.9853 - val_loss: 0.0873 - val_accuracy: 0.9742\n",
      "Epoch 2/25\n",
      "3074/3074 [==============================] - 643s 209ms/step - loss: 0.0528 - accuracy: 0.9883 - val_loss: 0.0761 - val_accuracy: 0.9713\n",
      "Epoch 3/25\n",
      "3074/3074 [==============================] - 640s 208ms/step - loss: 0.0508 - accuracy: 0.9888 - val_loss: 0.0898 - val_accuracy: 0.9756\n",
      "Epoch 4/25\n",
      "3074/3074 [==============================] - 618s 201ms/step - loss: 0.0504 - accuracy: 0.9889 - val_loss: 0.1215 - val_accuracy: 0.9720\n",
      "Epoch 5/25\n",
      "3074/3074 [==============================] - 619s 201ms/step - loss: 0.0500 - accuracy: 0.9891 - val_loss: 0.1027 - val_accuracy: 0.9733\n",
      "Epoch 6/25\n",
      "3074/3074 [==============================] - 618s 201ms/step - loss: 0.0501 - accuracy: 0.9889 - val_loss: 0.1156 - val_accuracy: 0.9756\n",
      "Epoch 7/25\n",
      "3074/3074 [==============================] - 615s 200ms/step - loss: 0.0495 - accuracy: 0.9891 - val_loss: 0.1190 - val_accuracy: 0.9764\n",
      "Epoch 8/25\n",
      "3074/3074 [==============================] - 617s 201ms/step - loss: 0.0495 - accuracy: 0.9890 - val_loss: 0.0922 - val_accuracy: 0.9742\n",
      "Epoch 9/25\n",
      "3074/3074 [==============================] - 618s 201ms/step - loss: 0.0495 - accuracy: 0.9890 - val_loss: 0.0811 - val_accuracy: 0.9734\n",
      "Epoch 10/25\n",
      "3074/3074 [==============================] - 614s 200ms/step - loss: 0.0492 - accuracy: 0.9890 - val_loss: 0.0721 - val_accuracy: 0.9846\n",
      "Epoch 11/25\n",
      "3074/3074 [==============================] - 615s 200ms/step - loss: 0.0491 - accuracy: 0.9891 - val_loss: 0.0938 - val_accuracy: 0.9732\n",
      "Epoch 12/25\n",
      "3074/3074 [==============================] - 615s 200ms/step - loss: 0.0490 - accuracy: 0.9891 - val_loss: 0.0765 - val_accuracy: 0.9818\n",
      "Epoch 13/25\n",
      "3074/3074 [==============================] - 617s 201ms/step - loss: 0.0490 - accuracy: 0.9891 - val_loss: 0.0733 - val_accuracy: 0.9819\n",
      "Epoch 14/25\n",
      "3074/3074 [==============================] - 617s 201ms/step - loss: 0.0489 - accuracy: 0.9891 - val_loss: 0.0655 - val_accuracy: 0.9840\n",
      "Epoch 15/25\n",
      "3074/3074 [==============================] - 617s 201ms/step - loss: 0.0486 - accuracy: 0.9892 - val_loss: 0.0601 - val_accuracy: 0.9850\n",
      "Epoch 16/25\n",
      "3074/3074 [==============================] - 617s 201ms/step - loss: 0.0486 - accuracy: 0.9892 - val_loss: 0.0783 - val_accuracy: 0.9738\n",
      "Epoch 17/25\n",
      "3074/3074 [==============================] - 615s 200ms/step - loss: 0.0485 - accuracy: 0.9892 - val_loss: 0.0681 - val_accuracy: 0.9833\n",
      "Epoch 18/25\n",
      "3074/3074 [==============================] - 614s 200ms/step - loss: 0.0486 - accuracy: 0.9891 - val_loss: 0.0755 - val_accuracy: 0.9841\n",
      "Epoch 19/25\n",
      "3074/3074 [==============================] - 619s 201ms/step - loss: 0.0486 - accuracy: 0.9891 - val_loss: 0.1067 - val_accuracy: 0.9729\n",
      "Epoch 20/25\n",
      "3074/3074 [==============================] - 616s 200ms/step - loss: 0.0485 - accuracy: 0.9891 - val_loss: 0.0790 - val_accuracy: 0.9824\n",
      "Epoch 21/25\n",
      "3074/3074 [==============================] - 618s 201ms/step - loss: 0.0485 - accuracy: 0.9891 - val_loss: 0.0902 - val_accuracy: 0.9720\n",
      "Epoch 22/25\n",
      "3074/3074 [==============================] - 617s 201ms/step - loss: 0.0485 - accuracy: 0.9891 - val_loss: 0.0955 - val_accuracy: 0.9770\n",
      "Epoch 23/25\n",
      "3074/3074 [==============================] - 616s 200ms/step - loss: 0.0485 - accuracy: 0.9891 - val_loss: 0.0705 - val_accuracy: 0.9765\n",
      "Epoch 24/25\n",
      "3074/3074 [==============================] - 615s 200ms/step - loss: 0.0486 - accuracy: 0.9891 - val_loss: 0.0671 - val_accuracy: 0.9839\n",
      "Epoch 25/25\n",
      "3074/3074 [==============================] - 617s 201ms/step - loss: 0.0485 - accuracy: 0.9891 - val_loss: 0.0711 - val_accuracy: 0.9800\n"
     ]
    }
   ],
   "source": [
    "batch_size = 4096\n",
    "logger = CSVLogger('logs.csv', append=True)\n",
    "his = model.fit(X_train, y_train, epochs=25#\n",
    "                , batch_size=batch_size, \n",
    "          validation_data=(X_test, y_test), callbacks=[logger])"
   ]
  },
  {
   "cell_type": "code",
   "execution_count": null,
   "id": "1fb9e50d",
   "metadata": {},
   "outputs": [],
   "source": [
    "model.save(\"D:/GIU/Semester 7/Bachelor Thesis/Project Code/models/CNN_V5.3.2.h5\")"
   ]
  },
  {
   "cell_type": "code",
   "execution_count": null,
   "id": "cd2b8cbb",
   "metadata": {},
   "outputs": [],
   "source": [
    "from keras.models import load_model\n",
    "\n",
    "\n",
    "loaded_model = load_model('D:/GIU/Semester 7/Bachelor Thesis/Project Code/models/CNN_V5.3.2.h5')"
   ]
  },
  {
   "cell_type": "code",
   "execution_count": 120,
   "id": "40826119",
   "metadata": {
    "scrolled": false
   },
   "outputs": [
    {
     "name": "stdout",
     "output_type": "stream",
     "text": [
      "98366/98366 [==============================] - 176s 2ms/step\n"
     ]
    },
    {
     "data": {
      "image/png": "[encoded data removed]",
      "text/plain": [
       "<Figure size 1080x1080 with 2 Axes>"
      ]
     },
     "metadata": {
      "needs_background": "light"
     },
     "output_type": "display_data"
    }
   ],
   "source": [
    "from sklearn.metrics import accuracy_score, confusion_matrix, precision_recall_fscore_support,  roc_curve, auc\n",
    "import tensorflow as tf \n",
    "#model = tf.keras.models.load_model('/'+model_name+'.h5')\n",
    "\n",
    "y_pred = model.predict(X_test)\n",
    "\n",
    "y_pred_cm  = np.argmax(y_pred, axis=1)\n",
    "y_test_cm  = np.argmax(y_test, axis=1)\n",
    "\n",
    "cm = confusion_matrix(y_test_cm, y_pred_cm) \n",
    "\n",
    "group_counts = [\"{0:0.0f}\".format(value) for value in cm.flatten()]\n",
    "\n",
    "group_percentages = [\"{0:.2%}\".format(value) for value in cm.flatten()/np.sum(cm)]\n",
    "\n",
    "labels = [f\"{v1}\\n{v2}\" for v1, v2 in zip(group_counts,group_percentages)]\n",
    "\n",
    "labels = np.asarray(labels).reshape(2,2)\n",
    "\n",
    "label = ['Benign','Malicious']\n",
    "\n",
    "plt.figure(figsize=(15,15))\n",
    "sns.heatmap(cm, xticklabels=label, yticklabels=label, annot=labels, fmt='', cmap=\"Blues\", vmin = 0.2);\n",
    "# plt.title('Confusion Matrix for'+ modelName+' model')\n",
    "plt.ylabel('True Class')\n",
    "plt.xlabel('Predicted Class')\n",
    "# plt.savefig('./'+modelName+'_CM.png')\n",
    "plt.show()"
   ]
  },
  {
   "cell_type": "code",
   "execution_count": 121,
   "id": "add1d696",
   "metadata": {
    "scrolled": false
   },
   "outputs": [
    {
     "name": "stdout",
     "output_type": "stream",
     "text": [
      "              precision    recall  f1-score   support\n",
      "\n",
      "      Benign    0.97739   0.99957   0.98836   2677013\n",
      "   Malicious    0.99722   0.86848   0.92841    470681\n",
      "\n",
      "    accuracy                        0.97997   3147694\n",
      "   macro avg    0.98731   0.93403   0.95838   3147694\n",
      "weighted avg    0.98035   0.97997   0.97939   3147694\n",
      "\n",
      "98366/98366 [==============================] - 218s 2ms/step - loss: 0.0711 - accuracy: 0.9800\n",
      "Test: accuracy = 0.979972 ; loss = 0.071137 \n"
     ]
    }
   ],
   "source": [
    "from sklearn.metrics import classification_report\n",
    "\n",
    "\n",
    "\n",
    "print(classification_report(y_test_cm, y_pred_cm, target_names= label,digits=5))\n",
    "                            \n",
    "loss, accuracy = model.evaluate(X_test,y_test, verbose = 1)\n",
    "print(\"Test: accuracy = %f ; loss = %f \" % (accuracy,loss))"
   ]
  },
  {
   "cell_type": "markdown",
   "id": "2a6f21ba",
   "metadata": {},
   "source": [
    "# DNN (DNN-2C)"
   ]
  },
  {
   "cell_type": "code",
   "execution_count": 102,
   "id": "79681176",
   "metadata": {
    "scrolled": true
   },
   "outputs": [
    {
     "data": {
      "text/html": [
       "<div>\n",
       "<style scoped>\n",
       "    .dataframe tbody tr th:only-of-type {\n",
       "        vertical-align: middle;\n",
       "    }\n",
       "\n",
       "    .dataframe tbody tr th {\n",
       "        vertical-align: top;\n",
       "    }\n",
       "\n",
       "    .dataframe thead th {\n",
       "        text-align: right;\n",
       "    }\n",
       "</style>\n",
       "<table border=\"1\" class=\"dataframe\">\n",
       "  <thead>\n",
       "    <tr style=\"text-align: right;\">\n",
       "      <th></th>\n",
       "      <th>0</th>\n",
       "      <th>1</th>\n",
       "      <th>2</th>\n",
       "      <th>3</th>\n",
       "      <th>4</th>\n",
       "      <th>5</th>\n",
       "      <th>6</th>\n",
       "      <th>7</th>\n",
       "      <th>8</th>\n",
       "      <th>9</th>\n",
       "      <th>...</th>\n",
       "      <th>15</th>\n",
       "      <th>16</th>\n",
       "      <th>17</th>\n",
       "      <th>18</th>\n",
       "      <th>19</th>\n",
       "      <th>20</th>\n",
       "      <th>21</th>\n",
       "      <th>22</th>\n",
       "      <th>23</th>\n",
       "      <th>24</th>\n",
       "    </tr>\n",
       "  </thead>\n",
       "  <tbody>\n",
       "    <tr>\n",
       "      <th>0</th>\n",
       "      <td>-0.039927</td>\n",
       "      <td>-0.335890</td>\n",
       "      <td>-0.658289</td>\n",
       "      <td>-0.484346</td>\n",
       "      <td>-0.022807</td>\n",
       "      <td>-0.010610</td>\n",
       "      <td>-0.013517</td>\n",
       "      <td>-0.003370</td>\n",
       "      <td>-0.122502</td>\n",
       "      <td>-0.020591</td>\n",
       "      <td>...</td>\n",
       "      <td>-0.112834</td>\n",
       "      <td>-0.621084</td>\n",
       "      <td>-0.119523</td>\n",
       "      <td>-0.112834</td>\n",
       "      <td>-1.330416</td>\n",
       "      <td>-0.525644</td>\n",
       "      <td>-0.154665</td>\n",
       "      <td>-0.018309</td>\n",
       "      <td>-0.018309</td>\n",
       "      <td>-0.033944</td>\n",
       "    </tr>\n",
       "    <tr>\n",
       "      <th>1</th>\n",
       "      <td>-0.036206</td>\n",
       "      <td>-0.704269</td>\n",
       "      <td>-0.658289</td>\n",
       "      <td>-0.486033</td>\n",
       "      <td>-0.022808</td>\n",
       "      <td>-0.010611</td>\n",
       "      <td>-0.013518</td>\n",
       "      <td>-0.003371</td>\n",
       "      <td>0.289464</td>\n",
       "      <td>-0.018028</td>\n",
       "      <td>...</td>\n",
       "      <td>-0.851332</td>\n",
       "      <td>-0.621084</td>\n",
       "      <td>0.102121</td>\n",
       "      <td>-0.851332</td>\n",
       "      <td>3.146360</td>\n",
       "      <td>1.128216</td>\n",
       "      <td>-0.848340</td>\n",
       "      <td>-0.019171</td>\n",
       "      <td>-0.019171</td>\n",
       "      <td>-0.033944</td>\n",
       "    </tr>\n",
       "    <tr>\n",
       "      <th>2</th>\n",
       "      <td>-0.039927</td>\n",
       "      <td>0.026450</td>\n",
       "      <td>-0.658289</td>\n",
       "      <td>-0.484346</td>\n",
       "      <td>-0.022806</td>\n",
       "      <td>-0.010609</td>\n",
       "      <td>-0.013514</td>\n",
       "      <td>-0.003369</td>\n",
       "      <td>-0.142327</td>\n",
       "      <td>-0.020591</td>\n",
       "      <td>...</td>\n",
       "      <td>-0.244122</td>\n",
       "      <td>-0.621084</td>\n",
       "      <td>-0.130189</td>\n",
       "      <td>-0.244122</td>\n",
       "      <td>-1.330416</td>\n",
       "      <td>-0.525644</td>\n",
       "      <td>0.047465</td>\n",
       "      <td>-0.018462</td>\n",
       "      <td>-0.018462</td>\n",
       "      <td>-0.033944</td>\n",
       "    </tr>\n",
       "    <tr>\n",
       "      <th>3</th>\n",
       "      <td>-0.042407</td>\n",
       "      <td>-0.704269</td>\n",
       "      <td>-0.658289</td>\n",
       "      <td>-0.487141</td>\n",
       "      <td>0.188516</td>\n",
       "      <td>0.078170</td>\n",
       "      <td>0.209088</td>\n",
       "      <td>0.074410</td>\n",
       "      <td>-0.151533</td>\n",
       "      <td>-0.021232</td>\n",
       "      <td>...</td>\n",
       "      <td>-0.851332</td>\n",
       "      <td>-0.621084</td>\n",
       "      <td>-0.135142</td>\n",
       "      <td>-0.851332</td>\n",
       "      <td>-2.449610</td>\n",
       "      <td>-0.525644</td>\n",
       "      <td>-0.848340</td>\n",
       "      <td>-0.019171</td>\n",
       "      <td>-0.019171</td>\n",
       "      <td>-0.040131</td>\n",
       "    </tr>\n",
       "    <tr>\n",
       "      <th>4</th>\n",
       "      <td>-0.013884</td>\n",
       "      <td>0.032489</td>\n",
       "      <td>0.525267</td>\n",
       "      <td>-0.482922</td>\n",
       "      <td>-0.022806</td>\n",
       "      <td>-0.010610</td>\n",
       "      <td>-0.013517</td>\n",
       "      <td>-0.003371</td>\n",
       "      <td>-0.122696</td>\n",
       "      <td>-0.015464</td>\n",
       "      <td>...</td>\n",
       "      <td>0.029395</td>\n",
       "      <td>0.169050</td>\n",
       "      <td>-0.121844</td>\n",
       "      <td>0.029395</td>\n",
       "      <td>0.348375</td>\n",
       "      <td>-0.021624</td>\n",
       "      <td>0.003495</td>\n",
       "      <td>-0.016087</td>\n",
       "      <td>-0.016087</td>\n",
       "      <td>-0.015385</td>\n",
       "    </tr>\n",
       "  </tbody>\n",
       "</table>\n",
       "<p>5 rows × 25 columns</p>\n",
       "</div>"
      ],
      "text/plain": [
       "         0         1         2         3         4         5         6   \\\n",
       "0 -0.039927 -0.335890 -0.658289 -0.484346 -0.022807 -0.010610 -0.013517   \n",
       "1 -0.036206 -0.704269 -0.658289 -0.486033 -0.022808 -0.010611 -0.013518   \n",
       "2 -0.039927  0.026450 -0.658289 -0.484346 -0.022806 -0.010609 -0.013514   \n",
       "3 -0.042407 -0.704269 -0.658289 -0.487141  0.188516  0.078170  0.209088   \n",
       "4 -0.013884  0.032489  0.525267 -0.482922 -0.022806 -0.010610 -0.013517   \n",
       "\n",
       "         7         8         9   ...        15        16        17        18  \\\n",
       "0 -0.003370 -0.122502 -0.020591  ... -0.112834 -0.621084 -0.119523 -0.112834   \n",
       "1 -0.003371  0.289464 -0.018028  ... -0.851332 -0.621084  0.102121 -0.851332   \n",
       "2 -0.003369 -0.142327 -0.020591  ... -0.244122 -0.621084 -0.130189 -0.244122   \n",
       "3  0.074410 -0.151533 -0.021232  ... -0.851332 -0.621084 -0.135142 -0.851332   \n",
       "4 -0.003371 -0.122696 -0.015464  ...  0.029395  0.169050 -0.121844  0.029395   \n",
       "\n",
       "         19        20        21        22        23        24  \n",
       "0 -1.330416 -0.525644 -0.154665 -0.018309 -0.018309 -0.033944  \n",
       "1  3.146360  1.128216 -0.848340 -0.019171 -0.019171 -0.033944  \n",
       "2 -1.330416 -0.525644  0.047465 -0.018462 -0.018462 -0.033944  \n",
       "3 -2.449610 -0.525644 -0.848340 -0.019171 -0.019171 -0.040131  \n",
       "4  0.348375 -0.021624  0.003495 -0.016087 -0.016087 -0.015385  \n",
       "\n",
       "[5 rows x 25 columns]"
      ]
     },
     "execution_count": 102,
     "metadata": {},
     "output_type": "execute_result"
    }
   ],
   "source": [
    "from sklearn import preprocessing\n",
    "from sklearn.preprocessing import StandardScaler\n",
    "\n",
    "\n",
    "scaler = StandardScaler()\n",
    "\n",
    "scalar1 = scaler.fit_transform(X_train)\n",
    "scalar2 = scaler.fit_transform(X_test)\n",
    "\n",
    "X_train = pd.DataFrame(scalar1)\n",
    "X_test = pd.DataFrame(scalar2)\n",
    "\n",
    "X_train.head()"
   ]
  },
  {
   "cell_type": "code",
   "execution_count": null,
   "id": "278f009d",
   "metadata": {},
   "outputs": [],
   "source": [
    "import tensorflow as tf\n",
    "\n",
    "def model():\n",
    "\n",
    "    # Define the model\n",
    "    model = tf.keras.Sequential()\n",
    "\n",
    "    # Add the layers\n",
    "    model.add(tf.keras.layers.Dense(300, activation='relu', input_shape=(X_train.shape[1],)))\n",
    "    model.add(tf.keras.layers.Dropout(0.22))\n",
    "    model.add(tf.keras.layers.Dense(300, activation='relu'))\n",
    "    model.add(tf.keras.layers.Dropout(0.22))\n",
    "    model.add(tf.keras.layers.Dense(300, activation='relu'))\n",
    "    model.add(tf.keras.layers.Dropout(0.22))\n",
    "    model.add(tf.keras.layers.Dense(300, activation='relu'))\n",
    "    model.add(tf.keras.layers.Dropout(0.22))\n",
    "    model.add(tf.keras.layers.Dense(300, activation='relu'))\n",
    "    model.add(tf.keras.layers.Dropout(0.22))\n",
    "    model.add(tf.keras.layers.Dense(300, activation='relu'))\n",
    "    model.add(tf.keras.layers.Dropout(0.22))\n",
    "\n",
    "    \n",
    "    model.add(tf.keras.layers.Dense(2, activation='softmax'))\n",
    "\n",
    "    # Compile the model\n",
    "    optimizer = tf.keras.optimizers.Adam(learning_rate=0.00061)\n",
    "    model.compile(optimizer=optimizer, loss='binary_crossentropy', metrics=['accuracy'])\n",
    "\n",
    "    return model\n",
    "\n"
   ]
  },
  {
   "cell_type": "code",
   "execution_count": 59,
   "id": "e205c57c",
   "metadata": {
    "scrolled": true
   },
   "outputs": [
    {
     "name": "stdout",
     "output_type": "stream",
     "text": [
      "Model: \"sequential_3\"\n",
      "_________________________________________________________________\n",
      " Layer (type)                Output Shape              Param #   \n",
      "=================================================================\n",
      " dense_20 (Dense)            (None, 300)               7800      \n",
      "                                                                 \n",
      " dropout_17 (Dropout)        (None, 300)               0         \n",
      "                                                                 \n",
      " dense_21 (Dense)            (None, 300)               90300     \n",
      "                                                                 \n",
      " dropout_18 (Dropout)        (None, 300)               0         \n",
      "                                                                 \n",
      " dense_22 (Dense)            (None, 300)               90300     \n",
      "                                                                 \n",
      " dropout_19 (Dropout)        (None, 300)               0         \n",
      "                                                                 \n",
      " dense_23 (Dense)            (None, 300)               90300     \n",
      "                                                                 \n",
      " dropout_20 (Dropout)        (None, 300)               0         \n",
      "                                                                 \n",
      " dense_24 (Dense)            (None, 300)               90300     \n",
      "                                                                 \n",
      " dropout_21 (Dropout)        (None, 300)               0         \n",
      "                                                                 \n",
      " dense_25 (Dense)            (None, 300)               90300     \n",
      "                                                                 \n",
      " dropout_22 (Dropout)        (None, 300)               0         \n",
      "                                                                 \n",
      " dense_26 (Dense)            (None, 2)                 602       \n",
      "                                                                 \n",
      "=================================================================\n",
      "Total params: 459,902\n",
      "Trainable params: 459,902\n",
      "Non-trainable params: 0\n",
      "_________________________________________________________________\n"
     ]
    }
   ],
   "source": [
    "model = model()\n",
    "model.summary()"
   ]
  },
  {
   "cell_type": "code",
   "execution_count": 62,
   "id": "8f9c0ef2",
   "metadata": {
    "scrolled": true
   },
   "outputs": [
    {
     "name": "stdout",
     "output_type": "stream",
     "text": [
      "Epoch 1/25\n",
      "3074/3074 [==============================] - 345s 111ms/step - loss: 0.0631 - accuracy: 0.9844 - val_loss: 0.1571 - val_accuracy: 0.9422\n",
      "Epoch 2/25\n",
      "3074/3074 [==============================] - 344s 112ms/step - loss: 0.0519 - accuracy: 0.9885 - val_loss: 0.1865 - val_accuracy: 0.9164\n",
      "Epoch 3/25\n",
      "3074/3074 [==============================] - 341s 111ms/step - loss: 0.0509 - accuracy: 0.9887 - val_loss: 0.1419 - val_accuracy: 0.9598\n",
      "Epoch 4/25\n",
      "3074/3074 [==============================] - 342s 111ms/step - loss: 0.0504 - accuracy: 0.9889 - val_loss: 0.1714 - val_accuracy: 0.9497\n",
      "Epoch 5/25\n",
      "3074/3074 [==============================] - 347s 113ms/step - loss: 0.0500 - accuracy: 0.9890 - val_loss: 0.1474 - val_accuracy: 0.9495\n",
      "Epoch 6/25\n",
      "3074/3074 [==============================] - 335s 109ms/step - loss: 0.0498 - accuracy: 0.9890 - val_loss: 0.1547 - val_accuracy: 0.9670\n",
      "Epoch 7/25\n",
      "3074/3074 [==============================] - 342s 111ms/step - loss: 0.0495 - accuracy: 0.9891 - val_loss: 0.1653 - val_accuracy: 0.9673\n",
      "Epoch 8/25\n",
      "3074/3074 [==============================] - 342s 111ms/step - loss: 0.0494 - accuracy: 0.9891 - val_loss: 0.1904 - val_accuracy: 0.9490\n",
      "Epoch 9/25\n",
      "3074/3074 [==============================] - 343s 112ms/step - loss: 0.0493 - accuracy: 0.9891 - val_loss: 0.1855 - val_accuracy: 0.9346\n",
      "Epoch 10/25\n",
      "3074/3074 [==============================] - 343s 111ms/step - loss: 0.0492 - accuracy: 0.9891 - val_loss: 0.1568 - val_accuracy: 0.9488\n",
      "Epoch 11/25\n",
      "3074/3074 [==============================] - 343s 111ms/step - loss: 0.0491 - accuracy: 0.9891 - val_loss: 0.1680 - val_accuracy: 0.9486\n",
      "Epoch 12/25\n",
      "3074/3074 [==============================] - 345s 112ms/step - loss: 0.0490 - accuracy: 0.9891 - val_loss: 0.1700 - val_accuracy: 0.9658\n",
      "Epoch 13/25\n",
      "3074/3074 [==============================] - 344s 112ms/step - loss: 0.0490 - accuracy: 0.9891 - val_loss: 0.1456 - val_accuracy: 0.9669\n",
      "Epoch 14/25\n",
      "3074/3074 [==============================] - 343s 112ms/step - loss: 0.0489 - accuracy: 0.9891 - val_loss: 0.1656 - val_accuracy: 0.9673\n",
      "Epoch 15/25\n",
      "3074/3074 [==============================] - 346s 113ms/step - loss: 0.0489 - accuracy: 0.9891 - val_loss: 0.1578 - val_accuracy: 0.9675\n",
      "Epoch 16/25\n",
      "3074/3074 [==============================] - 343s 112ms/step - loss: 0.0488 - accuracy: 0.9891 - val_loss: 0.1790 - val_accuracy: 0.9347\n",
      "Epoch 17/25\n",
      "3074/3074 [==============================] - 344s 112ms/step - loss: 0.0488 - accuracy: 0.9891 - val_loss: 0.1982 - val_accuracy: 0.9397\n",
      "Epoch 18/25\n",
      "3074/3074 [==============================] - 345s 112ms/step - loss: 0.0487 - accuracy: 0.9891 - val_loss: 0.1554 - val_accuracy: 0.9667\n",
      "Epoch 19/25\n",
      "3074/3074 [==============================] - 343s 111ms/step - loss: 0.0487 - accuracy: 0.9891 - val_loss: 0.1473 - val_accuracy: 0.9656\n",
      "Epoch 20/25\n",
      "3074/3074 [==============================] - 342s 111ms/step - loss: 0.0487 - accuracy: 0.9891 - val_loss: 0.1727 - val_accuracy: 0.9571\n",
      "Epoch 21/25\n",
      "3074/3074 [==============================] - 343s 111ms/step - loss: 0.0487 - accuracy: 0.9891 - val_loss: 0.1610 - val_accuracy: 0.9651\n",
      "Epoch 22/25\n",
      "3074/3074 [==============================] - 343s 111ms/step - loss: 0.0487 - accuracy: 0.9891 - val_loss: 0.1949 - val_accuracy: 0.9474\n",
      "Epoch 23/25\n",
      "3074/3074 [==============================] - 343s 112ms/step - loss: 0.0486 - accuracy: 0.9891 - val_loss: 0.1665 - val_accuracy: 0.9651\n",
      "Epoch 24/25\n",
      "3074/3074 [==============================] - 342s 111ms/step - loss: 0.0486 - accuracy: 0.9891 - val_loss: 0.2016 - val_accuracy: 0.9463\n",
      "Epoch 25/25\n",
      "3074/3074 [==============================] - 348s 113ms/step - loss: 0.0485 - accuracy: 0.9892 - val_loss: 0.1888 - val_accuracy: 0.9462\n",
      "Wall time: 2h 23min\n"
     ]
    }
   ],
   "source": [
    "%%time\n",
    "# Fit the model to the training data\n",
    "logger = CSVLogger('logs.csv', append=True)\n",
    "\n",
    "his = model.fit(X_train, y_train, batch_size=4096, epochs=25, validation_data=(X_test, y_test),callbacks=[logger])"
   ]
  },
  {
   "cell_type": "code",
   "execution_count": null,
   "id": "3f85407d",
   "metadata": {},
   "outputs": [],
   "source": [
    "model.save(\"D:/GIU/Semester 7/Bachelor Thesis/Project Code/models/DNN_V5.3.2-copy1.h5\")"
   ]
  },
  {
   "cell_type": "code",
   "execution_count": null,
   "id": "227d1d75",
   "metadata": {},
   "outputs": [],
   "source": [
    "from keras.models import load_model\n",
    "\n",
    "\n",
    "loaded_model = load_model('D:/GIU/Semester 7/Bachelor Thesis/Project Code/models/DNN_V5.3.2-copy1.h5')"
   ]
  },
  {
   "cell_type": "code",
   "execution_count": 103,
   "id": "1ebc1418",
   "metadata": {
    "scrolled": false
   },
   "outputs": [
    {
     "name": "stdout",
     "output_type": "stream",
     "text": [
      "98366/98366 [==============================] - 223s 2ms/step\n"
     ]
    },
    {
     "data": {
      "image/png": "[encoded data removed]",
      "text/plain": [
       "<Figure size 1080x1080 with 2 Axes>"
      ]
     },
     "metadata": {
      "needs_background": "light"
     },
     "output_type": "display_data"
    }
   ],
   "source": [
    "from sklearn.metrics import accuracy_score, confusion_matrix, precision_recall_fscore_support,  roc_curve, auc\n",
    "import tensorflow as tf \n",
    "#model = tf.keras.models.load_model('/'+model_name+'.h5')\n",
    "\n",
    "y_pred = loaded_model.predict(X_test)\n",
    "\n",
    "y_pred_cm  = np.argmax(y_pred, axis=1)\n",
    "y_test_cm  = np.argmax(y_test, axis=1)\n",
    "\n",
    "cm = confusion_matrix(y_test_cm, y_pred_cm) \n",
    "\n",
    "group_counts = [\"{0:0.0f}\".format(value) for value in cm.flatten()]\n",
    "\n",
    "group_percentages = [\"{0:.2%}\".format(value) for value in cm.flatten()/np.sum(cm)]\n",
    "\n",
    "labels = [f\"{v1}\\n{v2}\" for v1, v2 in zip(group_counts,group_percentages)]\n",
    "\n",
    "labels = np.asarray(labels).reshape(2,2)\n",
    "\n",
    "label = ['Benign','Malicious']\n",
    "\n",
    "plt.figure(figsize=(15,15))\n",
    "sns.heatmap(cm, xticklabels=label, yticklabels=label, annot=labels, fmt='', cmap=\"Blues\", vmin = 0.2);\n",
    "# plt.title('Confusion Matrix for'+ modelName+' model')\n",
    "plt.ylabel('True Class')\n",
    "plt.xlabel('Predicted Class')\n",
    "# plt.savefig('./'+modelName+'_CM.png')\n",
    "plt.show()"
   ]
  },
  {
   "cell_type": "code",
   "execution_count": 104,
   "id": "ccc78e14",
   "metadata": {
    "scrolled": true
   },
   "outputs": [
    {
     "name": "stdout",
     "output_type": "stream",
     "text": [
      "              precision    recall  f1-score   support\n",
      "\n",
      "      Benign    0.94374   0.99672   0.96951   2677013\n",
      "   Malicious    0.97260   0.66205   0.78783    470681\n",
      "\n",
      "    accuracy                        0.94668   3147694\n",
      "   macro avg    0.95817   0.82939   0.87867   3147694\n",
      "weighted avg    0.94805   0.94668   0.94234   3147694\n",
      "\n",
      "98366/98366 [==============================] - 253s 3ms/step - loss: 0.1936 - accuracy: 0.9467\n",
      "Test: accuracy = 0.946677 ; loss = 0.193588 \n"
     ]
    }
   ],
   "source": [
    "from sklearn.metrics import classification_report\n",
    "\n",
    "\n",
    "\n",
    "print(classification_report(y_test_cm, y_pred_cm, target_names= label,digits=5))\n",
    "                            \n",
    "loss, accuracy = loaded_model.evaluate(X_test,y_test, verbose = 1)\n",
    "print(\"Test: accuracy = %f ; loss = %f \" % (accuracy,loss))"
   ]
  },
  {
   "cell_type": "code",
   "execution_count": null,
   "id": "20652483",
   "metadata": {},
   "outputs": [],
   "source": []
  },
  {
   "cell_type": "code",
   "execution_count": null,
   "id": "4f24beb3",
   "metadata": {},
   "outputs": [],
   "source": []
  }
 ],
 "metadata": {
  "kernelspec": {
   "display_name": "Python 3",
   "language": "python",
   "name": "python3"
  },
  "language_info": {
   "codemirror_mode": {
    "name": "ipython",
    "version": 3
   },
   "file_extension": ".py",
   "mimetype": "text/x-python",
   "name": "python",
   "nbconvert_exporter": "python",
   "pygments_lexer": "ipython3",
   "version": "3.9.7"
  }
 },
 "nbformat": 4,
 "nbformat_minor": 5
}

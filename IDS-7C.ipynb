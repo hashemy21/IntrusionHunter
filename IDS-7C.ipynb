{
 "cells": [
  {
   "cell_type": "code",
   "execution_count": 4,
   "id": "04f70a8c",
   "metadata": {},
   "outputs": [],
   "source": [
    "# import libraries\n",
    "import numpy as np # linear algebra\n",
    "import pandas as pd # data processing, CSV file I/O (e.g. pd.read_csv)\n",
    "import os, re, time, math, tqdm, itertools\n",
    "import matplotlib.pyplot as plt\n",
    "import seaborn as sns\n",
    "import plotly.express as px\n",
    "import plotly.offline as pyo\n",
    "from sklearn.model_selection import train_test_split\n",
    "from sklearn.preprocessing import MinMaxScaler\n",
    "from sklearn.ensemble import RandomForestClassifier\n",
    "from sklearn.preprocessing import LabelEncoder\n",
    "from sklearn.neural_network import MLPClassifier\n",
    "import keras\n",
    "from keras.layers import Conv2D, Conv1D, MaxPooling2D, MaxPooling1D, Flatten, BatchNormalization, Dense\n",
    "from keras.utils.np_utils import to_categorical\n",
    "from keras.models import Sequential\n",
    "from keras.callbacks import CSVLogger, ModelCheckpoint\n",
    "import glob\n",
    "import gc"
   ]
  },
  {
   "cell_type": "code",
   "execution_count": 5,
   "id": "9ae63b8d",
   "metadata": {},
   "outputs": [],
   "source": [
    "# set base path to the directory containing the csv files of the dataset\n",
    "dataset_base_path_parquet = r'D:/GIU/Semester 7/Bachelor Thesis/Datasets/CICIDS 2018/full cicids 2018/processed/newPARQUET'"
   ]
  },
  {
   "cell_type": "code",
   "execution_count": 6,
   "id": "972ad4e7",
   "metadata": {},
   "outputs": [],
   "source": [
    "parquet_files = glob.glob(os.path.join(dataset_base_path_parquet, '*.parquet'))\n",
    "\n",
    "network_data = pd.concat((pd.read_parquet(f) for f in parquet_files))"
   ]
  },
  {
   "cell_type": "code",
   "execution_count": 7,
   "id": "0611620a",
   "metadata": {},
   "outputs": [
    {
     "data": {
      "text/plain": [
       "(15738470, 80)"
      ]
     },
     "execution_count": 7,
     "metadata": {},
     "output_type": "execute_result"
    }
   ],
   "source": [
    "network_data.shape"
   ]
  },
  {
   "cell_type": "code",
   "execution_count": 8,
   "id": "ed201536",
   "metadata": {},
   "outputs": [
    {
     "name": "stdout",
     "output_type": "stream",
     "text": [
      "<class 'pandas.core.frame.DataFrame'>\n",
      "Int64Index: 15738470 entries, 0 to 601380\n",
      "Data columns (total 80 columns):\n",
      " #   Column             Dtype  \n",
      "---  ------             -----  \n",
      " 0   dst_port           uint32 \n",
      " 1   protocol           uint8  \n",
      " 2   timestamp          object \n",
      " 3   flow_duration      int64  \n",
      " 4   tot_fwd_pkts       uint32 \n",
      " 5   tot_bwd_pkts       uint32 \n",
      " 6   totlen_fwd_pkts    uint32 \n",
      " 7   totlen_bwd_pkts    uint32 \n",
      " 8   fwd_pkt_len_max    uint16 \n",
      " 9   fwd_pkt_len_min    uint16 \n",
      " 10  fwd_pkt_len_mean   float32\n",
      " 11  fwd_pkt_len_std    float32\n",
      " 12  bwd_pkt_len_max    uint16 \n",
      " 13  bwd_pkt_len_min    uint16 \n",
      " 14  bwd_pkt_len_mean   float32\n",
      " 15  bwd_pkt_len_std    float32\n",
      " 16  flow_byts_s        float64\n",
      " 17  flow_pkts_s        float64\n",
      " 18  flow_iat_mean      float32\n",
      " 19  flow_iat_std       float32\n",
      " 20  flow_iat_max       int64  \n",
      " 21  flow_iat_min       int64  \n",
      " 22  fwd_iat_tot        int64  \n",
      " 23  fwd_iat_mean       float32\n",
      " 24  fwd_iat_std        float32\n",
      " 25  fwd_iat_max        int64  \n",
      " 26  fwd_iat_min        int64  \n",
      " 27  bwd_iat_tot        uint32 \n",
      " 28  bwd_iat_mean       float32\n",
      " 29  bwd_iat_std        float32\n",
      " 30  bwd_iat_max        uint32 \n",
      " 31  bwd_iat_min        uint32 \n",
      " 32  fwd_psh_flags      uint8  \n",
      " 33  bwd_psh_flags      uint8  \n",
      " 34  fwd_urg_flags      uint8  \n",
      " 35  bwd_urg_flags      uint8  \n",
      " 36  fwd_header_len     uint32 \n",
      " 37  bwd_header_len     uint32 \n",
      " 38  fwd_pkts_s         float32\n",
      " 39  bwd_pkts_s         float32\n",
      " 40  pkt_len_min        uint16 \n",
      " 41  pkt_len_max        uint16 \n",
      " 42  pkt_len_mean       float32\n",
      " 43  pkt_len_std        float32\n",
      " 44  pkt_len_var        float32\n",
      " 45  fin_flag_cnt       uint8  \n",
      " 46  syn_flag_cnt       uint8  \n",
      " 47  rst_flag_cnt       uint8  \n",
      " 48  psh_flag_cnt       uint8  \n",
      " 49  ack_flag_cnt       uint8  \n",
      " 50  urg_flag_cnt       uint8  \n",
      " 51  cwe_flag_count     uint8  \n",
      " 52  ece_flag_cnt       uint8  \n",
      " 53  down_up_ratio      uint16 \n",
      " 54  pkt_size_avg       float32\n",
      " 55  fwd_seg_size_avg   float32\n",
      " 56  bwd_seg_size_avg   float32\n",
      " 57  fwd_byts_b_avg     uint8  \n",
      " 58  fwd_pkts_b_avg     uint8  \n",
      " 59  fwd_blk_rate_avg   uint8  \n",
      " 60  bwd_byts_b_avg     uint8  \n",
      " 61  bwd_pkts_b_avg     uint8  \n",
      " 62  bwd_blk_rate_avg   uint8  \n",
      " 63  subflow_fwd_pkts   uint32 \n",
      " 64  subflow_fwd_byts   uint32 \n",
      " 65  subflow_bwd_pkts   uint32 \n",
      " 66  subflow_bwd_byts   uint32 \n",
      " 67  init_fwd_win_byts  int32  \n",
      " 68  init_bwd_win_byts  int32  \n",
      " 69  fwd_act_data_pkts  uint32 \n",
      " 70  fwd_seg_size_min   uint8  \n",
      " 71  active_mean        float32\n",
      " 72  active_std         float32\n",
      " 73  active_max         uint32 \n",
      " 74  active_min         uint32 \n",
      " 75  idle_mean          float32\n",
      " 76  idle_std           float32\n",
      " 77  idle_max           uint64 \n",
      " 78  idle_min           uint64 \n",
      " 79  label              object \n",
      "dtypes: float32(22), float64(2), int32(2), int64(6), object(2), uint16(7), uint32(17), uint64(2), uint8(20)\n",
      "memory usage: 4.4+ GB\n"
     ]
    }
   ],
   "source": [
    "network_data.info()"
   ]
  },
  {
   "cell_type": "code",
   "execution_count": 9,
   "id": "198e1efe",
   "metadata": {},
   "outputs": [],
   "source": [
    "def change_label(df):\n",
    "    df.label.replace(['DoS attacks-GoldenEye', 'DoS attacks-Slowloris',\n",
    "       'DoS attacks-SlowHTTPTest', 'DoS attacks-Hulk',],'DoS',inplace=True)\n",
    "    df.label.replace(['DDoS attacks-LOIC-HTTP', 'DDOS attack-LOIC-UDP',\n",
    "       'DDOS attack-HOIC'],'DDoS',inplace=True)\n",
    "    df.label.replace(['FTP-BruteForce','SSH-Bruteforce'],'Bruteforce',inplace=True)\n",
    "    df.label.replace(['Brute Force -Web', 'Brute Force -XSS',\n",
    "       'SQL Injection'],'Web Attacks',inplace=True)"
   ]
  },
  {
   "cell_type": "code",
   "execution_count": 10,
   "id": "c6098790",
   "metadata": {},
   "outputs": [],
   "source": [
    "change_label(network_data)"
   ]
  },
  {
   "cell_type": "code",
   "execution_count": 11,
   "id": "2d1eacc7",
   "metadata": {},
   "outputs": [
    {
     "data": {
      "text/plain": [
       "Benign           13385066\n",
       "DDoS              1246366\n",
       "DoS                506075\n",
       "Bot                282310\n",
       "Infilteration      161059\n",
       "Bruteforce         156668\n",
       "Web Attacks           926\n",
       "Name: label, dtype: int64"
      ]
     },
     "execution_count": 11,
     "metadata": {},
     "output_type": "execute_result"
    }
   ],
   "source": [
    "# check the number of values for labels\n",
    "network_data['label'].value_counts()"
   ]
  },
  {
   "cell_type": "code",
   "execution_count": 12,
   "id": "27ff538c",
   "metadata": {},
   "outputs": [
    {
     "data": {
      "text/plain": [
       "array([0, 5, 1, 2, 4, 3, 6])"
      ]
     },
     "execution_count": 12,
     "metadata": {},
     "output_type": "execute_result"
    }
   ],
   "source": [
    "label_encoder = LabelEncoder()\n",
    "network_data['label']= label_encoder.fit_transform(network_data['label'])\n",
    "network_data['label'].unique()"
   ]
  },
  {
   "cell_type": "code",
   "execution_count": 13,
   "id": "4110620e",
   "metadata": {},
   "outputs": [
    {
     "data": {
      "text/plain": [
       "0    13385066\n",
       "3     1246366\n",
       "4      506075\n",
       "1      282310\n",
       "5      161059\n",
       "2      156668\n",
       "6         926\n",
       "Name: label, dtype: int64"
      ]
     },
     "execution_count": 13,
     "metadata": {},
     "output_type": "execute_result"
    }
   ],
   "source": [
    "# check for encoded labels\n",
    "network_data['label'].value_counts()"
   ]
  },
  {
   "cell_type": "code",
   "execution_count": 14,
   "id": "e0210d7c",
   "metadata": {},
   "outputs": [
    {
     "data": {
      "text/plain": [
       "(15738470, 80)"
      ]
     },
     "execution_count": 14,
     "metadata": {},
     "output_type": "execute_result"
    }
   ],
   "source": [
    "network_data.shape"
   ]
  },
  {
   "cell_type": "code",
   "execution_count": 15,
   "id": "03ce8a1e",
   "metadata": {},
   "outputs": [
    {
     "data": {
      "text/plain": [
       "array([0, 0, 0, 0, 0, 0, 0, 0, 0, 0, 0, 0, 0, 0, 0, 0, 0, 0, 0, 0, 0, 0,\n",
       "       0, 0, 0, 0, 0, 0, 0, 0, 0, 0, 0, 0, 0, 0, 0, 0, 0, 0, 0, 0, 0, 0,\n",
       "       0, 0, 0, 0, 0, 0, 0, 0, 0, 0, 0, 0, 0, 0, 0, 0, 0, 0, 0, 0, 0, 0,\n",
       "       0, 0, 0, 0, 0, 0, 0, 0, 0, 0, 0, 0, 0, 0], dtype=int64)"
      ]
     },
     "execution_count": 15,
     "metadata": {},
     "output_type": "execute_result"
    }
   ],
   "source": [
    "network_data.isna().sum().to_numpy()"
   ]
  },
  {
   "cell_type": "code",
   "execution_count": 16,
   "id": "4b1d50b0",
   "metadata": {},
   "outputs": [],
   "source": [
    "import pandas as pd\n",
    "from sklearn.model_selection import train_test_split\n",
    "\n",
    "training_data, testing_data = train_test_split(network_data, test_size=0.2, random_state=132, stratify=network_data.label)"
   ]
  },
  {
   "cell_type": "code",
   "execution_count": 17,
   "id": "061077cb",
   "metadata": {},
   "outputs": [
    {
     "data": {
      "text/plain": [
       "(array([0, 4, 3, 1, 5, 2, 6]), array([0, 3, 1, 2, 4, 5, 6]))"
      ]
     },
     "execution_count": 17,
     "metadata": {},
     "output_type": "execute_result"
    }
   ],
   "source": [
    "target_train = training_data['label']\n",
    "target_test = testing_data['label']\n",
    "target_train.unique(), target_test.unique()"
   ]
  },
  {
   "cell_type": "code",
   "execution_count": 18,
   "id": "ab940d3a",
   "metadata": {},
   "outputs": [],
   "source": [
    "training_data.drop(columns = [\"timestamp\",\"label\"], axis=1, inplace = True)\n",
    "testing_data.drop(columns = [\"timestamp\",\"label\"], axis=1, inplace = True)"
   ]
  },
  {
   "cell_type": "code",
   "execution_count": 19,
   "id": "b5780863",
   "metadata": {},
   "outputs": [
    {
     "name": "stdout",
     "output_type": "stream",
     "text": [
      "(12590776, 78)\n",
      "(3147694, 78)\n",
      "(12590776,)\n",
      "(3147694,)\n"
     ]
    }
   ],
   "source": [
    "print(training_data.shape)\n",
    "print(testing_data.shape)\n",
    "print(target_train.shape)\n",
    "print(target_test.shape)"
   ]
  },
  {
   "cell_type": "code",
   "execution_count": 20,
   "id": "a35bec7a",
   "metadata": {},
   "outputs": [],
   "source": [
    "y_train = to_categorical(target_train, num_classes=7)\n",
    "y_test = to_categorical(target_test, num_classes=7)"
   ]
  },
  {
   "cell_type": "code",
   "execution_count": 18,
   "id": "f2d182d6",
   "metadata": {},
   "outputs": [],
   "source": [
    "# %%time\n",
    "# import pandas as pd\n",
    "# from sklearn.ensemble import RandomForestClassifier\n",
    "# from sklearn.feature_selection import SelectFromModel\n",
    "\n",
    "# sel = SelectFromModel(RandomForestClassifier(n_estimators = 100))\n",
    "# sel.fit(X_train, y_train)"
   ]
  },
  {
   "cell_type": "code",
   "execution_count": 19,
   "id": "944946ea",
   "metadata": {},
   "outputs": [],
   "source": [
    "# selected_feat = X_train.columns[(sel.get_support())]\n",
    "# print(selected_feat)"
   ]
  },
  {
   "cell_type": "code",
   "execution_count": 20,
   "id": "2ae05379",
   "metadata": {},
   "outputs": [],
   "source": [
    "# len(selected_feat)"
   ]
  },
  {
   "cell_type": "code",
   "execution_count": 21,
   "id": "f8d55fbc",
   "metadata": {},
   "outputs": [],
   "source": [
    "selected_feat = ['bwd_header_len', 'bwd_pkt_len_mean','bwd_pkt_len_std', \n",
    "       'dst_port', 'flow_duration', 'flow_iat_max','flow_iat_mean', \n",
    "       'flow_iat_min', 'flow_pkts_s', 'fwd_header_len',\n",
    "       'fwd_iat_max', 'fwd_iat_mean', 'fwd_iat_min', 'fwd_iat_tot',\n",
    "       'fwd_pkt_len_max', 'fwd_pkt_len_mean', 'fwd_pkt_len_std', 'fwd_pkts_s',\n",
    "       'fwd_seg_size_avg', 'fwd_seg_size_min', 'init_fwd_win_byts',\n",
    "       'pkt_size_avg', 'subflow_fwd_byts', 'totlen_fwd_pkts', 'tot_bwd_pkts']"
   ]
  },
  {
   "cell_type": "code",
   "execution_count": 22,
   "id": "a4247ef5",
   "metadata": {},
   "outputs": [
    {
     "data": {
      "text/plain": [
       "(12590776, 25)"
      ]
     },
     "execution_count": 22,
     "metadata": {},
     "output_type": "execute_result"
    }
   ],
   "source": [
    "X_train = training_data[selected_feat]\n",
    "X_train.shape"
   ]
  },
  {
   "cell_type": "code",
   "execution_count": 23,
   "id": "54de7686",
   "metadata": {},
   "outputs": [
    {
     "data": {
      "text/plain": [
       "(3147694, 25)"
      ]
     },
     "execution_count": 23,
     "metadata": {},
     "output_type": "execute_result"
    }
   ],
   "source": [
    "X_test = testing_data[selected_feat]\n",
    "X_test.shape"
   ]
  },
  {
   "cell_type": "code",
   "execution_count": 24,
   "id": "dd0fbff9",
   "metadata": {},
   "outputs": [
    {
     "name": "stdout",
     "output_type": "stream",
     "text": [
      "(12590776, 25)\n",
      "(3147694, 25)\n",
      "(12590776, 7)\n",
      "(3147694, 7)\n"
     ]
    }
   ],
   "source": [
    "print(X_train.shape)\n",
    "print(X_test.shape)\n",
    "print(y_train.shape)\n",
    "print(y_test.shape)"
   ]
  },
  {
   "cell_type": "code",
   "execution_count": 25,
   "id": "9d148d35",
   "metadata": {},
   "outputs": [
    {
     "data": {
      "text/plain": [
       "57"
      ]
     },
     "execution_count": 25,
     "metadata": {},
     "output_type": "execute_result"
    }
   ],
   "source": [
    "del network_data\n",
    "gc.collect()"
   ]
  },
  {
   "cell_type": "code",
   "execution_count": 26,
   "id": "e1d184bb",
   "metadata": {},
   "outputs": [],
   "source": [
    "del training_data,testing_data,target_train,target_test"
   ]
  },
  {
   "cell_type": "code",
   "execution_count": 27,
   "id": "90109aa8",
   "metadata": {},
   "outputs": [
    {
     "data": {
      "text/plain": [
       "0"
      ]
     },
     "execution_count": 27,
     "metadata": {},
     "output_type": "execute_result"
    }
   ],
   "source": [
    "gc.collect()"
   ]
  },
  {
   "cell_type": "markdown",
   "id": "4700824d",
   "metadata": {},
   "source": [
    "# XGBoost (XGB-7C)"
   ]
  },
  {
   "cell_type": "code",
   "execution_count": 28,
   "id": "d16afb5b",
   "metadata": {},
   "outputs": [
    {
     "name": "stdout",
     "output_type": "stream",
     "text": [
      "Wall time: 128 ms\n"
     ]
    }
   ],
   "source": [
    "%%time\n",
    "# Import the necessary libraries\n",
    "from xgboost import XGBClassifier"
   ]
  },
  {
   "cell_type": "code",
   "execution_count": 60,
   "id": "94857060",
   "metadata": {},
   "outputs": [
    {
     "name": "stdout",
     "output_type": "stream",
     "text": [
      "[20:05:57] WARNING: C:/buildkite-agent/builds/buildkite-windows-cpu-autoscaling-group-i-030221e36e1a46bfb-1/xgboost/xgboost-ci-windows/src/learner.cc:767: \n",
      "Parameters: { \"min_samples_split\" } are not used.\n",
      "\n",
      "Wall time: 3h 3min 29s\n"
     ]
    },
    {
     "data": {
      "text/html": [
       "<style>#sk-container-id-1 {color: black;background-color: white;}#sk-container-id-1 pre{padding: 0;}#sk-container-id-1 div.sk-toggleable {background-color: white;}#sk-container-id-1 label.sk-toggleable__label {cursor: pointer;display: block;width: 100%;margin-bottom: 0;padding: 0.3em;box-sizing: border-box;text-align: center;}#sk-container-id-1 label.sk-toggleable__label-arrow:before {content: \"▸\";float: left;margin-right: 0.25em;color: #696969;}#sk-container-id-1 label.sk-toggleable__label-arrow:hover:before {color: black;}#sk-container-id-1 div.sk-estimator:hover label.sk-toggleable__label-arrow:before {color: black;}#sk-container-id-1 div.sk-toggleable__content {max-height: 0;max-width: 0;overflow: hidden;text-align: left;background-color: #f0f8ff;}#sk-container-id-1 div.sk-toggleable__content pre {margin: 0.2em;color: black;border-radius: 0.25em;background-color: #f0f8ff;}#sk-container-id-1 input.sk-toggleable__control:checked~div.sk-toggleable__content {max-height: 200px;max-width: 100%;overflow: auto;}#sk-container-id-1 input.sk-toggleable__control:checked~label.sk-toggleable__label-arrow:before {content: \"▾\";}#sk-container-id-1 div.sk-estimator input.sk-toggleable__control:checked~label.sk-toggleable__label {background-color: #d4ebff;}#sk-container-id-1 div.sk-label input.sk-toggleable__control:checked~label.sk-toggleable__label {background-color: #d4ebff;}#sk-container-id-1 input.sk-hidden--visually {border: 0;clip: rect(1px 1px 1px 1px);clip: rect(1px, 1px, 1px, 1px);height: 1px;margin: -1px;overflow: hidden;padding: 0;position: absolute;width: 1px;}#sk-container-id-1 div.sk-estimator {font-family: monospace;background-color: #f0f8ff;border: 1px dotted black;border-radius: 0.25em;box-sizing: border-box;margin-bottom: 0.5em;}#sk-container-id-1 div.sk-estimator:hover {background-color: #d4ebff;}#sk-container-id-1 div.sk-parallel-item::after {content: \"\";width: 100%;border-bottom: 1px solid gray;flex-grow: 1;}#sk-container-id-1 div.sk-label:hover label.sk-toggleable__label {background-color: #d4ebff;}#sk-container-id-1 div.sk-serial::before {content: \"\";position: absolute;border-left: 1px solid gray;box-sizing: border-box;top: 0;bottom: 0;left: 50%;z-index: 0;}#sk-container-id-1 div.sk-serial {display: flex;flex-direction: column;align-items: center;background-color: white;padding-right: 0.2em;padding-left: 0.2em;position: relative;}#sk-container-id-1 div.sk-item {position: relative;z-index: 1;}#sk-container-id-1 div.sk-parallel {display: flex;align-items: stretch;justify-content: center;background-color: white;position: relative;}#sk-container-id-1 div.sk-item::before, #sk-container-id-1 div.sk-parallel-item::before {content: \"\";position: absolute;border-left: 1px solid gray;box-sizing: border-box;top: 0;bottom: 0;left: 50%;z-index: -1;}#sk-container-id-1 div.sk-parallel-item {display: flex;flex-direction: column;z-index: 1;position: relative;background-color: white;}#sk-container-id-1 div.sk-parallel-item:first-child::after {align-self: flex-end;width: 50%;}#sk-container-id-1 div.sk-parallel-item:last-child::after {align-self: flex-start;width: 50%;}#sk-container-id-1 div.sk-parallel-item:only-child::after {width: 0;}#sk-container-id-1 div.sk-dashed-wrapped {border: 1px dashed gray;margin: 0 0.4em 0.5em 0.4em;box-sizing: border-box;padding-bottom: 0.4em;background-color: white;}#sk-container-id-1 div.sk-label label {font-family: monospace;font-weight: bold;display: inline-block;line-height: 1.2em;}#sk-container-id-1 div.sk-label-container {text-align: center;}#sk-container-id-1 div.sk-container {/* jupyter's `normalize.less` sets `[hidden] { display: none; }` but bootstrap.min.css set `[hidden] { display: none !important; }` so we also need the `!important` here to be able to override the default hidden behavior on the sphinx rendered scikit-learn.org. See: https://github.com/scikit-learn/scikit-learn/issues/21755 */display: inline-block !important;position: relative;}#sk-container-id-1 div.sk-text-repr-fallback {display: none;}</style><div id=\"sk-container-id-1\" class=\"sk-top-container\"><div class=\"sk-text-repr-fallback\"><pre>XGBClassifier(base_score=0.5, booster=&#x27;gbtree&#x27;, callbacks=None,\n",
       "              colsample_bylevel=1, colsample_bynode=1, colsample_bytree=1,\n",
       "              early_stopping_rounds=None, enable_categorical=False,\n",
       "              eval_metric=None, feature_types=None, gamma=0, gpu_id=-1,\n",
       "              grow_policy=&#x27;depthwise&#x27;, importance_type=None,\n",
       "              interaction_constraints=&#x27;&#x27;, learning_rate=0.300000012,\n",
       "              max_bin=256, max_cat_threshold=64, max_cat_to_onehot=4,\n",
       "              max_delta_step=0, max_depth=10, max_leaves=0, min_child_weight=1,\n",
       "              min_samples_split=254, missing=nan, monotone_constraints=&#x27;()&#x27;,\n",
       "              n_estimators=2000, n_jobs=-1, num_parallel_tree=1,\n",
       "              predictor=&#x27;auto&#x27;, ...)</pre><b>In a Jupyter environment, please rerun this cell to show the HTML representation or trust the notebook. <br />On GitHub, the HTML representation is unable to render, please try loading this page with nbviewer.org.</b></div><div class=\"sk-container\" hidden><div class=\"sk-item\"><div class=\"sk-estimator sk-toggleable\"><input class=\"sk-toggleable__control sk-hidden--visually\" id=\"sk-estimator-id-1\" type=\"checkbox\" checked><label for=\"sk-estimator-id-1\" class=\"sk-toggleable__label sk-toggleable__label-arrow\">XGBClassifier</label><div class=\"sk-toggleable__content\"><pre>XGBClassifier(base_score=0.5, booster=&#x27;gbtree&#x27;, callbacks=None,\n",
       "              colsample_bylevel=1, colsample_bynode=1, colsample_bytree=1,\n",
       "              early_stopping_rounds=None, enable_categorical=False,\n",
       "              eval_metric=None, feature_types=None, gamma=0, gpu_id=-1,\n",
       "              grow_policy=&#x27;depthwise&#x27;, importance_type=None,\n",
       "              interaction_constraints=&#x27;&#x27;, learning_rate=0.300000012,\n",
       "              max_bin=256, max_cat_threshold=64, max_cat_to_onehot=4,\n",
       "              max_delta_step=0, max_depth=10, max_leaves=0, min_child_weight=1,\n",
       "              min_samples_split=254, missing=nan, monotone_constraints=&#x27;()&#x27;,\n",
       "              n_estimators=2000, n_jobs=-1, num_parallel_tree=1,\n",
       "              predictor=&#x27;auto&#x27;, ...)</pre></div></div></div></div></div>"
      ],
      "text/plain": [
       "XGBClassifier(base_score=0.5, booster='gbtree', callbacks=None,\n",
       "              colsample_bylevel=1, colsample_bynode=1, colsample_bytree=1,\n",
       "              early_stopping_rounds=None, enable_categorical=False,\n",
       "              eval_metric=None, feature_types=None, gamma=0, gpu_id=-1,\n",
       "              grow_policy='depthwise', importance_type=None,\n",
       "              interaction_constraints='', learning_rate=0.300000012,\n",
       "              max_bin=256, max_cat_threshold=64, max_cat_to_onehot=4,\n",
       "              max_delta_step=0, max_depth=10, max_leaves=0, min_child_weight=1,\n",
       "              min_samples_split=254, missing=nan, monotone_constraints='()',\n",
       "              n_estimators=2000, n_jobs=-1, num_parallel_tree=1,\n",
       "              predictor='auto', ...)"
      ]
     },
     "execution_count": 60,
     "metadata": {},
     "output_type": "execute_result"
    }
   ],
   "source": [
    "%%time\n",
    "# Import the necessary libraries\n",
    "from xgboost import XGBClassifier\n",
    "\n",
    "\n",
    "# model3 = XGBClassifier(n_estimators = 2000,\n",
    "#                         max_depth = 10,\n",
    "#                         reg_lambda = 4.8139,\n",
    "#                         min_samples_split = 254,\n",
    "#                         random_state = 5, tree_method = 'hist',n_jobs = -1)\n",
    "\n",
    "# model3.fit(X_train, y_train)"
   ]
  },
  {
   "cell_type": "code",
   "execution_count": 67,
   "id": "0c56adf1",
   "metadata": {},
   "outputs": [],
   "source": [
    "# import pickle\n",
    "\n",
    "# with open('D:/GIU/Semester 7/Bachelor Thesis/Project Code/models/XGB_V5.3.7.pkl','wb') as file:\n",
    "#     pickle.dump(model3,file)"
   ]
  },
  {
   "cell_type": "code",
   "execution_count": 29,
   "id": "6ff30256",
   "metadata": {},
   "outputs": [],
   "source": [
    "import pickle\n",
    "\n",
    "with open('D:/GIU/Semester 7/Bachelor Thesis/Project Code/models/XGB_V5.3.7.pkl','rb') as f:\n",
    "    model3 = pickle.load(f)"
   ]
  },
  {
   "cell_type": "code",
   "execution_count": 30,
   "id": "17cfbb9b",
   "metadata": {},
   "outputs": [
    {
     "name": "stdout",
     "output_type": "stream",
     "text": [
      "Wall time: 2min 15s\n"
     ]
    }
   ],
   "source": [
    "%%time\n",
    "Y_test_pred3 = model3.predict(X_test)"
   ]
  },
  {
   "cell_type": "code",
   "execution_count": 31,
   "id": "b6f0193a",
   "metadata": {},
   "outputs": [
    {
     "name": "stdout",
     "output_type": "stream",
     "text": [
      "Test score is: 0.989499296945637\n"
     ]
    }
   ],
   "source": [
    "test_accuracy = model3.score(X_test,y_test)\n",
    "print(\"Test score is:\",test_accuracy)"
   ]
  },
  {
   "cell_type": "code",
   "execution_count": 32,
   "id": "d5904723",
   "metadata": {},
   "outputs": [
    {
     "data": {
      "image/png": "[encoded data removed]",
      "text/plain": [
       "<Figure size 1080x1080 with 2 Axes>"
      ]
     },
     "metadata": {
      "needs_background": "light"
     },
     "output_type": "display_data"
    }
   ],
   "source": [
    "from sklearn.metrics import accuracy_score, confusion_matrix, precision_recall_fscore_support,  roc_curve, auc\n",
    "import tensorflow as tf \n",
    "\n",
    "y_pred = Y_test_pred3\n",
    "\n",
    "y_pred_cm  = np.argmax(y_pred, axis=1)\n",
    "y_test_cm  = np.argmax(y_test, axis=1)\n",
    "\n",
    "cm = confusion_matrix(y_test_cm, y_pred_cm) \n",
    "\n",
    "group_counts = [\"{0:0.0f}\".format(value) for value in cm.flatten()]\n",
    "\n",
    "group_percentages = [\"{0:.2%}\".format(value) for value in cm.flatten()/np.sum(cm)]\n",
    "\n",
    "labels = [f\"{v1}\\n{v2}\" for v1, v2 in zip(group_counts,group_percentages)]\n",
    "\n",
    "labels = np.asarray(labels).reshape(7,7)\n",
    "\n",
    "label = ['Benign','Bot','Bruteforce','DDoS','DoS','Infiltration','Web Attacks']\n",
    "\n",
    "plt.figure(figsize=(15,15))\n",
    "sns.heatmap(cm, xticklabels=label, yticklabels=label, annot=labels, fmt='', cmap=\"Blues\", vmin = 0.2);\n",
    "plt.ylabel('True Class')\n",
    "plt.xlabel('Predicted Class')\n",
    "plt.show()"
   ]
  },
  {
   "cell_type": "code",
   "execution_count": 33,
   "id": "eeaa677d",
   "metadata": {},
   "outputs": [
    {
     "name": "stdout",
     "output_type": "stream",
     "text": [
      "              precision    recall  f1-score   support\n",
      "\n",
      "      Benign    0.98950   0.99954   0.99450   2677013\n",
      "         Bot    0.99996   0.99995   0.99996     56462\n",
      "  Bruteforce    0.92906   0.98012   0.95391     31334\n",
      "        DDoS    0.99999   0.99999   0.99999    249273\n",
      "         DoS    0.99373   0.97684   0.98521    101215\n",
      "Infiltration    0.75972   0.12005   0.20733     32212\n",
      " Web Attacks    0.99310   0.77838   0.87273       185\n",
      "\n",
      "    accuracy                        0.98965   3147694\n",
      "   macro avg    0.95215   0.83641   0.85909   3147694\n",
      "weighted avg    0.98770   0.98965   0.98626   3147694\n",
      "\n",
      "Test: accuracy = 0.989499  \n"
     ]
    }
   ],
   "source": [
    "from sklearn.metrics import classification_report\n",
    "\n",
    "\n",
    "\n",
    "print(classification_report(y_test_cm, y_pred_cm, target_names= label,digits=5))\n",
    "                            \n",
    "# accuracy = model3.score(X_test,y_test)\n",
    "accuracy = test_accuracy\n",
    "print(\"Test: accuracy = %f  \" % (accuracy))"
   ]
  },
  {
   "cell_type": "markdown",
   "id": "a6f99675",
   "metadata": {},
   "source": [
    "# Random Forest (RF-7C)"
   ]
  },
  {
   "cell_type": "code",
   "execution_count": 57,
   "id": "405cccd5",
   "metadata": {},
   "outputs": [
    {
     "name": "stdout",
     "output_type": "stream",
     "text": [
      "Wall time: 3h 16min 19s\n"
     ]
    },
    {
     "data": {
      "text/html": [
       "<style>#sk-container-id-1 {color: black;background-color: white;}#sk-container-id-1 pre{padding: 0;}#sk-container-id-1 div.sk-toggleable {background-color: white;}#sk-container-id-1 label.sk-toggleable__label {cursor: pointer;display: block;width: 100%;margin-bottom: 0;padding: 0.3em;box-sizing: border-box;text-align: center;}#sk-container-id-1 label.sk-toggleable__label-arrow:before {content: \"▸\";float: left;margin-right: 0.25em;color: #696969;}#sk-container-id-1 label.sk-toggleable__label-arrow:hover:before {color: black;}#sk-container-id-1 div.sk-estimator:hover label.sk-toggleable__label-arrow:before {color: black;}#sk-container-id-1 div.sk-toggleable__content {max-height: 0;max-width: 0;overflow: hidden;text-align: left;background-color: #f0f8ff;}#sk-container-id-1 div.sk-toggleable__content pre {margin: 0.2em;color: black;border-radius: 0.25em;background-color: #f0f8ff;}#sk-container-id-1 input.sk-toggleable__control:checked~div.sk-toggleable__content {max-height: 200px;max-width: 100%;overflow: auto;}#sk-container-id-1 input.sk-toggleable__control:checked~label.sk-toggleable__label-arrow:before {content: \"▾\";}#sk-container-id-1 div.sk-estimator input.sk-toggleable__control:checked~label.sk-toggleable__label {background-color: #d4ebff;}#sk-container-id-1 div.sk-label input.sk-toggleable__control:checked~label.sk-toggleable__label {background-color: #d4ebff;}#sk-container-id-1 input.sk-hidden--visually {border: 0;clip: rect(1px 1px 1px 1px);clip: rect(1px, 1px, 1px, 1px);height: 1px;margin: -1px;overflow: hidden;padding: 0;position: absolute;width: 1px;}#sk-container-id-1 div.sk-estimator {font-family: monospace;background-color: #f0f8ff;border: 1px dotted black;border-radius: 0.25em;box-sizing: border-box;margin-bottom: 0.5em;}#sk-container-id-1 div.sk-estimator:hover {background-color: #d4ebff;}#sk-container-id-1 div.sk-parallel-item::after {content: \"\";width: 100%;border-bottom: 1px solid gray;flex-grow: 1;}#sk-container-id-1 div.sk-label:hover label.sk-toggleable__label {background-color: #d4ebff;}#sk-container-id-1 div.sk-serial::before {content: \"\";position: absolute;border-left: 1px solid gray;box-sizing: border-box;top: 0;bottom: 0;left: 50%;z-index: 0;}#sk-container-id-1 div.sk-serial {display: flex;flex-direction: column;align-items: center;background-color: white;padding-right: 0.2em;padding-left: 0.2em;position: relative;}#sk-container-id-1 div.sk-item {position: relative;z-index: 1;}#sk-container-id-1 div.sk-parallel {display: flex;align-items: stretch;justify-content: center;background-color: white;position: relative;}#sk-container-id-1 div.sk-item::before, #sk-container-id-1 div.sk-parallel-item::before {content: \"\";position: absolute;border-left: 1px solid gray;box-sizing: border-box;top: 0;bottom: 0;left: 50%;z-index: -1;}#sk-container-id-1 div.sk-parallel-item {display: flex;flex-direction: column;z-index: 1;position: relative;background-color: white;}#sk-container-id-1 div.sk-parallel-item:first-child::after {align-self: flex-end;width: 50%;}#sk-container-id-1 div.sk-parallel-item:last-child::after {align-self: flex-start;width: 50%;}#sk-container-id-1 div.sk-parallel-item:only-child::after {width: 0;}#sk-container-id-1 div.sk-dashed-wrapped {border: 1px dashed gray;margin: 0 0.4em 0.5em 0.4em;box-sizing: border-box;padding-bottom: 0.4em;background-color: white;}#sk-container-id-1 div.sk-label label {font-family: monospace;font-weight: bold;display: inline-block;line-height: 1.2em;}#sk-container-id-1 div.sk-label-container {text-align: center;}#sk-container-id-1 div.sk-container {/* jupyter's `normalize.less` sets `[hidden] { display: none; }` but bootstrap.min.css set `[hidden] { display: none !important; }` so we also need the `!important` here to be able to override the default hidden behavior on the sphinx rendered scikit-learn.org. See: https://github.com/scikit-learn/scikit-learn/issues/21755 */display: inline-block !important;position: relative;}#sk-container-id-1 div.sk-text-repr-fallback {display: none;}</style><div id=\"sk-container-id-1\" class=\"sk-top-container\"><div class=\"sk-text-repr-fallback\"><pre>RandomForestClassifier(n_estimators=200, n_jobs=-1)</pre><b>In a Jupyter environment, please rerun this cell to show the HTML representation or trust the notebook. <br />On GitHub, the HTML representation is unable to render, please try loading this page with nbviewer.org.</b></div><div class=\"sk-container\" hidden><div class=\"sk-item\"><div class=\"sk-estimator sk-toggleable\"><input class=\"sk-toggleable__control sk-hidden--visually\" id=\"sk-estimator-id-1\" type=\"checkbox\" checked><label for=\"sk-estimator-id-1\" class=\"sk-toggleable__label sk-toggleable__label-arrow\">RandomForestClassifier</label><div class=\"sk-toggleable__content\"><pre>RandomForestClassifier(n_estimators=200, n_jobs=-1)</pre></div></div></div></div></div>"
      ],
      "text/plain": [
       "RandomForestClassifier(n_estimators=200, n_jobs=-1)"
      ]
     },
     "execution_count": 57,
     "metadata": {},
     "output_type": "execute_result"
    }
   ],
   "source": [
    "# %%time\n",
    "# #RANDOM FOREST\n",
    "# model3 = RandomForestClassifier(n_estimators=200,n_jobs=-1)\n",
    "# model3.fit(X_train, y_train)"
   ]
  },
  {
   "cell_type": "code",
   "execution_count": null,
   "id": "7a066685",
   "metadata": {},
   "outputs": [],
   "source": [
    "# import pickle\n",
    "\n",
    "# with open('D:/GIU/Semester 7/Bachelor Thesis/Project Code/models/RF_V5.3.7.pkl','wb') as f:\n",
    "#     pickle.dump(model3,f)"
   ]
  },
  {
   "cell_type": "code",
   "execution_count": null,
   "id": "6b64da44",
   "metadata": {},
   "outputs": [],
   "source": [
    "import pickle\n",
    "\n",
    "with open('D:/GIU/Semester 7/Bachelor Thesis/Project Code/models/RF_V5.3.7.pkl','rb') as f:\n",
    "    model3 = pickle.load(f)"
   ]
  },
  {
   "cell_type": "code",
   "execution_count": 27,
   "id": "0fb36621",
   "metadata": {},
   "outputs": [
    {
     "name": "stdout",
     "output_type": "stream",
     "text": [
      "Wall time: 4min 4s\n"
     ]
    }
   ],
   "source": [
    "%%time\n",
    "Y_test_pred3 = model3.predict(X_test)"
   ]
  },
  {
   "cell_type": "code",
   "execution_count": 28,
   "id": "95bdb7f8",
   "metadata": {},
   "outputs": [
    {
     "name": "stdout",
     "output_type": "stream",
     "text": [
      "Test score is: 0.992406504571283\n"
     ]
    }
   ],
   "source": [
    "test_accuracy = model3.score(X_test,y_test)\n",
    "print(\"Test score is:\",test_accuracy)"
   ]
  },
  {
   "cell_type": "code",
   "execution_count": 29,
   "id": "b8716484",
   "metadata": {},
   "outputs": [
    {
     "data": {
      "image/png": "[encoded data removed]",
      "text/plain": [
       "<Figure size 1080x1080 with 2 Axes>"
      ]
     },
     "metadata": {
      "needs_background": "light"
     },
     "output_type": "display_data"
    }
   ],
   "source": [
    "from sklearn.metrics import accuracy_score, confusion_matrix, precision_recall_fscore_support,  roc_curve, auc\n",
    "import tensorflow as tf \n",
    "#model = tf.keras.models.load_model('/'+model_name+'.h5')\n",
    "\n",
    "y_pred = model3.predict(X_test)\n",
    "\n",
    "y_pred_cm  = np.argmax(y_pred, axis=1)\n",
    "y_test_cm  = np.argmax(y_test, axis=1)\n",
    "\n",
    "cm = confusion_matrix(y_test_cm, y_pred_cm)\n",
    "\n",
    "group_counts = [\"{0:0.0f}\".format(value) for value in cm.flatten()]\n",
    "\n",
    "group_percentages = [\"{0:.2%}\".format(value) for value in cm.flatten()/np.sum(cm)]\n",
    "\n",
    "labels = [f\"{v1}\\n{v2}\" for v1, v2 in zip(group_counts,group_percentages)]\n",
    "\n",
    "labels = np.asarray(labels).reshape(7,7)\n",
    "\n",
    "\n",
    "label = ['Benign','Bot','Bruteforce','DDoS','DoS','Infiltration','Web Attacks']\n",
    "\n",
    "\n",
    "plt.figure(figsize=(15,15))\n",
    "sns.heatmap(cm, xticklabels=label, yticklabels=label, annot=labels, fmt='', cmap=\"Blues\", vmin = 0.2);\n",
    "# plt.title('Confusion Matrix for'+ modelName+' model')\n",
    "plt.ylabel('True Class')\n",
    "plt.xlabel('Predicted Class')\n",
    "# plt.savefig('./'+modelName+'_CM.png')\n",
    "plt.show()"
   ]
  },
  {
   "cell_type": "code",
   "execution_count": 30,
   "id": "77055491",
   "metadata": {},
   "outputs": [
    {
     "name": "stdout",
     "output_type": "stream",
     "text": [
      "              precision    recall  f1-score   support\n",
      "\n",
      "      Benign    0.99317   0.99905   0.99610   2677013\n",
      "         Bot    0.99998   0.99993   0.99996     56462\n",
      "  Bruteforce    0.92906   0.98012   0.95391     31334\n",
      "        DDoS    0.99999   0.99999   0.99999    249273\n",
      "         DoS    0.99372   0.97681   0.98519    101215\n",
      "Infiltration    0.84579   0.42993   0.57008     32212\n",
      " Web Attacks    1.00000   0.87568   0.93372       185\n",
      "\n",
      "    accuracy                        0.99241   3147694\n",
      "   macro avg    0.96596   0.89450   0.91985   3147694\n",
      "weighted avg    0.99170   0.99241   0.99135   3147694\n",
      "\n",
      "Test: accuracy = 0.992407  \n"
     ]
    }
   ],
   "source": [
    "from sklearn.metrics import classification_report\n",
    "\n",
    "\n",
    "\n",
    "print(classification_report(y_test_cm, y_pred_cm, target_names= label,digits=5))\n",
    "                            \n",
    "# accuracy = model3.score(X_test,y_test)\n",
    "accuracy = model3.score(X_test,y_test)#test_accuracy\n",
    "print(\"Test: accuracy = %f  \" % (accuracy))"
   ]
  },
  {
   "cell_type": "markdown",
   "id": "f6e9dbe6",
   "metadata": {},
   "source": [
    "# CNN (CNN-7C)"
   ]
  },
  {
   "cell_type": "code",
   "execution_count": 32,
   "id": "6460bab7",
   "metadata": {},
   "outputs": [
    {
     "data": {
      "text/html": [
       "<div>\n",
       "<style scoped>\n",
       "    .dataframe tbody tr th:only-of-type {\n",
       "        vertical-align: middle;\n",
       "    }\n",
       "\n",
       "    .dataframe tbody tr th {\n",
       "        vertical-align: top;\n",
       "    }\n",
       "\n",
       "    .dataframe thead th {\n",
       "        text-align: right;\n",
       "    }\n",
       "</style>\n",
       "<table border=\"1\" class=\"dataframe\">\n",
       "  <thead>\n",
       "    <tr style=\"text-align: right;\">\n",
       "      <th></th>\n",
       "      <th>0</th>\n",
       "      <th>1</th>\n",
       "      <th>2</th>\n",
       "      <th>3</th>\n",
       "      <th>4</th>\n",
       "      <th>5</th>\n",
       "      <th>6</th>\n",
       "      <th>7</th>\n",
       "      <th>8</th>\n",
       "      <th>9</th>\n",
       "      <th>...</th>\n",
       "      <th>15</th>\n",
       "      <th>16</th>\n",
       "      <th>17</th>\n",
       "      <th>18</th>\n",
       "      <th>19</th>\n",
       "      <th>20</th>\n",
       "      <th>21</th>\n",
       "      <th>22</th>\n",
       "      <th>23</th>\n",
       "      <th>24</th>\n",
       "    </tr>\n",
       "  </thead>\n",
       "  <tbody>\n",
       "    <tr>\n",
       "      <th>0</th>\n",
       "      <td>-0.039661</td>\n",
       "      <td>-0.306430</td>\n",
       "      <td>-0.658887</td>\n",
       "      <td>-0.484387</td>\n",
       "      <td>-0.026016</td>\n",
       "      <td>-0.010581</td>\n",
       "      <td>-0.013528</td>\n",
       "      <td>-0.003702</td>\n",
       "      <td>-0.142391</td>\n",
       "      <td>-0.020578</td>\n",
       "      <td>...</td>\n",
       "      <td>-0.228573</td>\n",
       "      <td>-0.621471</td>\n",
       "      <td>-0.130236</td>\n",
       "      <td>-0.228573</td>\n",
       "      <td>-1.330464</td>\n",
       "      <td>-0.525628</td>\n",
       "      <td>-0.196401</td>\n",
       "      <td>-0.018489</td>\n",
       "      <td>-0.018489</td>\n",
       "      <td>-0.033702</td>\n",
       "    </tr>\n",
       "    <tr>\n",
       "      <th>1</th>\n",
       "      <td>0.004802</td>\n",
       "      <td>4.112337</td>\n",
       "      <td>2.284828</td>\n",
       "      <td>-0.463821</td>\n",
       "      <td>-0.025560</td>\n",
       "      <td>-0.010497</td>\n",
       "      <td>-0.013467</td>\n",
       "      <td>-0.003703</td>\n",
       "      <td>-0.151184</td>\n",
       "      <td>-0.009065</td>\n",
       "      <td>...</td>\n",
       "      <td>3.019699</td>\n",
       "      <td>3.224292</td>\n",
       "      <td>-0.134966</td>\n",
       "      <td>3.019699</td>\n",
       "      <td>0.348419</td>\n",
       "      <td>-0.021710</td>\n",
       "      <td>3.896463</td>\n",
       "      <td>0.012520</td>\n",
       "      <td>0.012520</td>\n",
       "      <td>0.003258</td>\n",
       "    </tr>\n",
       "    <tr>\n",
       "      <th>2</th>\n",
       "      <td>-0.037190</td>\n",
       "      <td>-0.373015</td>\n",
       "      <td>-0.658887</td>\n",
       "      <td>-0.484387</td>\n",
       "      <td>-0.025807</td>\n",
       "      <td>-0.010487</td>\n",
       "      <td>-0.013401</td>\n",
       "      <td>-0.003703</td>\n",
       "      <td>-0.151299</td>\n",
       "      <td>-0.019938</td>\n",
       "      <td>...</td>\n",
       "      <td>-0.212109</td>\n",
       "      <td>-0.621471</td>\n",
       "      <td>-0.135028</td>\n",
       "      <td>-0.212109</td>\n",
       "      <td>-1.330464</td>\n",
       "      <td>-0.525628</td>\n",
       "      <td>-0.327570</td>\n",
       "      <td>-0.017718</td>\n",
       "      <td>-0.017718</td>\n",
       "      <td>-0.027542</td>\n",
       "    </tr>\n",
       "    <tr>\n",
       "      <th>3</th>\n",
       "      <td>-0.035955</td>\n",
       "      <td>-0.705935</td>\n",
       "      <td>-0.658887</td>\n",
       "      <td>2.306645</td>\n",
       "      <td>-0.026019</td>\n",
       "      <td>-0.010583</td>\n",
       "      <td>-0.013532</td>\n",
       "      <td>-0.003703</td>\n",
       "      <td>0.113029</td>\n",
       "      <td>-0.019618</td>\n",
       "      <td>...</td>\n",
       "      <td>-0.854236</td>\n",
       "      <td>-0.621471</td>\n",
       "      <td>0.007175</td>\n",
       "      <td>-0.854236</td>\n",
       "      <td>0.348419</td>\n",
       "      <td>-0.500903</td>\n",
       "      <td>-0.849945</td>\n",
       "      <td>-0.019222</td>\n",
       "      <td>-0.019222</td>\n",
       "      <td>-0.033702</td>\n",
       "    </tr>\n",
       "    <tr>\n",
       "      <th>4</th>\n",
       "      <td>0.003567</td>\n",
       "      <td>0.661202</td>\n",
       "      <td>1.429096</td>\n",
       "      <td>-0.308471</td>\n",
       "      <td>-0.022341</td>\n",
       "      <td>-0.009077</td>\n",
       "      <td>-0.013045</td>\n",
       "      <td>-0.003703</td>\n",
       "      <td>-0.151445</td>\n",
       "      <td>-0.007786</td>\n",
       "      <td>...</td>\n",
       "      <td>1.508464</td>\n",
       "      <td>1.318567</td>\n",
       "      <td>-0.135105</td>\n",
       "      <td>1.508464</td>\n",
       "      <td>0.348419</td>\n",
       "      <td>-0.021710</td>\n",
       "      <td>0.824722</td>\n",
       "      <td>0.002903</td>\n",
       "      <td>0.002903</td>\n",
       "      <td>0.003258</td>\n",
       "    </tr>\n",
       "  </tbody>\n",
       "</table>\n",
       "<p>5 rows × 25 columns</p>\n",
       "</div>"
      ],
      "text/plain": [
       "         0         1         2         3         4         5         6   \\\n",
       "0 -0.039661 -0.306430 -0.658887 -0.484387 -0.026016 -0.010581 -0.013528   \n",
       "1  0.004802  4.112337  2.284828 -0.463821 -0.025560 -0.010497 -0.013467   \n",
       "2 -0.037190 -0.373015 -0.658887 -0.484387 -0.025807 -0.010487 -0.013401   \n",
       "3 -0.035955 -0.705935 -0.658887  2.306645 -0.026019 -0.010583 -0.013532   \n",
       "4  0.003567  0.661202  1.429096 -0.308471 -0.022341 -0.009077 -0.013045   \n",
       "\n",
       "         7         8         9   ...        15        16        17        18  \\\n",
       "0 -0.003702 -0.142391 -0.020578  ... -0.228573 -0.621471 -0.130236 -0.228573   \n",
       "1 -0.003703 -0.151184 -0.009065  ...  3.019699  3.224292 -0.134966  3.019699   \n",
       "2 -0.003703 -0.151299 -0.019938  ... -0.212109 -0.621471 -0.135028 -0.212109   \n",
       "3 -0.003703  0.113029 -0.019618  ... -0.854236 -0.621471  0.007175 -0.854236   \n",
       "4 -0.003703 -0.151445 -0.007786  ...  1.508464  1.318567 -0.135105  1.508464   \n",
       "\n",
       "         19        20        21        22        23        24  \n",
       "0 -1.330464 -0.525628 -0.196401 -0.018489 -0.018489 -0.033702  \n",
       "1  0.348419 -0.021710  3.896463  0.012520  0.012520  0.003258  \n",
       "2 -1.330464 -0.525628 -0.327570 -0.017718 -0.017718 -0.027542  \n",
       "3  0.348419 -0.500903 -0.849945 -0.019222 -0.019222 -0.033702  \n",
       "4  0.348419 -0.021710  0.824722  0.002903  0.002903  0.003258  \n",
       "\n",
       "[5 rows x 25 columns]"
      ]
     },
     "execution_count": 32,
     "metadata": {},
     "output_type": "execute_result"
    }
   ],
   "source": [
    "from sklearn import preprocessing\n",
    "from sklearn.preprocessing import StandardScaler\n",
    "\n",
    "\n",
    "scaler = StandardScaler()\n",
    "\n",
    "scalar1 = scaler.fit_transform(X_train)\n",
    "scalar2 = scaler.fit_transform(X_test)\n",
    "\n",
    "X_train = pd.DataFrame(scalar1)\n",
    "X_test = pd.DataFrame(scalar2)\n",
    "\n",
    "X_train.head()"
   ]
  },
  {
   "cell_type": "code",
   "execution_count": 33,
   "id": "c270e675",
   "metadata": {},
   "outputs": [
    {
     "data": {
      "text/plain": [
       "((12590776, 25, 1), (3147694, 25, 1))"
      ]
     },
     "execution_count": 33,
     "metadata": {},
     "output_type": "execute_result"
    }
   ],
   "source": [
    "# reshape the data for CNN\n",
    "X_train = X_train.values\n",
    "X_test = X_test.values\n",
    "\n",
    "\n",
    "X_train = X_train.reshape(len(X_train), X_train.shape[1], 1)\n",
    "X_test = X_test.reshape(len(X_test), X_test.shape[1], 1)\n",
    "X_train.shape, X_test.shape"
   ]
  },
  {
   "cell_type": "code",
   "execution_count": null,
   "id": "1090eabf",
   "metadata": {},
   "outputs": [],
   "source": [
    "X_test = np.asarray(X_test).astype('float32')\n",
    "y_test = np.asarray(y_test).astype('float32')\n",
    "X_train = np.asarray(X_train).astype('float32')\n",
    "y_train = np.asarray(y_train).astype('float32')"
   ]
  },
  {
   "cell_type": "code",
   "execution_count": null,
   "id": "ba5162a9",
   "metadata": {},
   "outputs": [],
   "source": [
    "from keras.layers import Dense, Dropout, Activation, Lambda\n",
    "\n",
    "# making the deep learning function\n",
    "def model():\n",
    "    model = Sequential()\n",
    "    model.add(Conv1D(32,3,activation='relu',padding='same',kernel_initializer='he_uniform',input_shape=(X_train.shape[1], 1)))\n",
    "    model.add(Conv1D(32,3,activation='relu',padding='same',kernel_initializer='he_uniform'))\n",
    "    model.add(MaxPooling1D(pool_size=2,strides=2))\n",
    "    model.add(Dropout(0.2))\n",
    "    model.add(BatchNormalization())\n",
    "\n",
    "    model.add(Conv1D(64,3,activation='relu',padding='same',kernel_initializer='he_uniform'))\n",
    "    model.add(Conv1D(64,3,activation='relu',padding='same',kernel_initializer='he_uniform')) \n",
    "    model.add(MaxPooling1D(pool_size=2,strides=2))\n",
    "    model.add(Dropout(0.2))\n",
    "    model.add(BatchNormalization())    \n",
    "\n",
    "    model.add(Flatten())\n",
    "    model.add(Dense(32,activation='relu'))\n",
    "    model.add(Dense(7,activation='softmax'))\n",
    "    \n",
    "    model.compile(loss='categorical_crossentropy', optimizer='adam', metrics=['accuracy'])\n",
    "    return model"
   ]
  },
  {
   "cell_type": "code",
   "execution_count": 40,
   "id": "ae0e18c0",
   "metadata": {
    "scrolled": true
   },
   "outputs": [
    {
     "name": "stdout",
     "output_type": "stream",
     "text": [
      "Model: \"sequential_1\"\n",
      "_________________________________________________________________\n",
      " Layer (type)                Output Shape              Param #   \n",
      "=================================================================\n",
      " conv1d_4 (Conv1D)           (None, 25, 32)            128       \n",
      "                                                                 \n",
      " conv1d_5 (Conv1D)           (None, 25, 32)            3104      \n",
      "                                                                 \n",
      " max_pooling1d_2 (MaxPooling  (None, 12, 32)           0         \n",
      " 1D)                                                             \n",
      "                                                                 \n",
      " dropout_2 (Dropout)         (None, 12, 32)            0         \n",
      "                                                                 \n",
      " batch_normalization_2 (Batc  (None, 12, 32)           128       \n",
      " hNormalization)                                                 \n",
      "                                                                 \n",
      " conv1d_6 (Conv1D)           (None, 12, 64)            6208      \n",
      "                                                                 \n",
      " conv1d_7 (Conv1D)           (None, 12, 64)            12352     \n",
      "                                                                 \n",
      " max_pooling1d_3 (MaxPooling  (None, 6, 64)            0         \n",
      " 1D)                                                             \n",
      "                                                                 \n",
      " dropout_3 (Dropout)         (None, 6, 64)             0         \n",
      "                                                                 \n",
      " batch_normalization_3 (Batc  (None, 6, 64)            256       \n",
      " hNormalization)                                                 \n",
      "                                                                 \n",
      " flatten_1 (Flatten)         (None, 384)               0         \n",
      "                                                                 \n",
      " dense_2 (Dense)             (None, 32)                12320     \n",
      "                                                                 \n",
      " dense_3 (Dense)             (None, 7)                 231       \n",
      "                                                                 \n",
      "=================================================================\n",
      "Total params: 34,727\n",
      "Trainable params: 34,535\n",
      "Non-trainable params: 192\n",
      "_________________________________________________________________\n"
     ]
    }
   ],
   "source": [
    "model = model()\n",
    "model.summary()"
   ]
  },
  {
   "cell_type": "code",
   "execution_count": 42,
   "id": "a6cc8b56",
   "metadata": {
    "scrolled": true
   },
   "outputs": [
    {
     "name": "stdout",
     "output_type": "stream",
     "text": [
      "Epoch 1/25\n",
      "49183/49183 [==============================] - 725s 15ms/step - loss: 0.0579 - accuracy: 0.9865 - val_loss: 0.0725 - val_accuracy: 0.9813\n",
      "Epoch 2/25\n",
      "49183/49183 [==============================] - 733s 15ms/step - loss: 0.0534 - accuracy: 0.9875 - val_loss: 0.0726 - val_accuracy: 0.9738\n",
      "Epoch 3/25\n",
      "49183/49183 [==============================] - 735s 15ms/step - loss: 0.0525 - accuracy: 0.9877 - val_loss: 0.0616 - val_accuracy: 0.9840\n",
      "Epoch 4/25\n",
      "49183/49183 [==============================] - 736s 15ms/step - loss: 0.0521 - accuracy: 0.9879 - val_loss: 0.0840 - val_accuracy: 0.9817\n",
      "Epoch 5/25\n",
      "49183/49183 [==============================] - 751s 15ms/step - loss: 0.0518 - accuracy: 0.9879 - val_loss: 0.0700 - val_accuracy: 0.9824\n",
      "Epoch 6/25\n",
      "49183/49183 [==============================] - 755s 15ms/step - loss: 0.0516 - accuracy: 0.9880 - val_loss: 0.0710 - val_accuracy: 0.9754\n",
      "Epoch 7/25\n",
      "49183/49183 [==============================] - 762s 15ms/step - loss: 0.0514 - accuracy: 0.9880 - val_loss: 0.1392 - val_accuracy: 0.9485\n",
      "Epoch 8/25\n",
      "49183/49183 [==============================] - 778s 16ms/step - loss: 0.0512 - accuracy: 0.9881 - val_loss: 0.0788 - val_accuracy: 0.9757\n",
      "Epoch 9/25\n",
      "49183/49183 [==============================] - 774s 16ms/step - loss: 0.0511 - accuracy: 0.9881 - val_loss: 0.1679 - val_accuracy: 0.9701\n",
      "Epoch 10/25\n",
      "49183/49183 [==============================] - 767s 16ms/step - loss: 0.0509 - accuracy: 0.9881 - val_loss: 0.0717 - val_accuracy: 0.9836\n",
      "Epoch 11/25\n",
      "49183/49183 [==============================] - 775s 16ms/step - loss: 0.0508 - accuracy: 0.9882 - val_loss: 0.0953 - val_accuracy: 0.9758\n",
      "Epoch 12/25\n",
      "49183/49183 [==============================] - 777s 16ms/step - loss: 0.0507 - accuracy: 0.9881 - val_loss: 0.2251 - val_accuracy: 0.9476\n",
      "Epoch 13/25\n",
      "49183/49183 [==============================] - 784s 16ms/step - loss: 0.0505 - accuracy: 0.9882 - val_loss: 0.0680 - val_accuracy: 0.9836\n",
      "Epoch 14/25\n",
      "49183/49183 [==============================] - 791s 16ms/step - loss: 0.0505 - accuracy: 0.9882 - val_loss: 0.2001 - val_accuracy: 0.9473\n",
      "Epoch 15/25\n",
      "49183/49183 [==============================] - 786s 16ms/step - loss: 0.0505 - accuracy: 0.9882 - val_loss: 0.0825 - val_accuracy: 0.9787\n",
      "Epoch 16/25\n",
      "49183/49183 [==============================] - 798s 16ms/step - loss: 0.0503 - accuracy: 0.9882 - val_loss: 0.0806 - val_accuracy: 0.9742\n",
      "Epoch 17/25\n",
      "49183/49183 [==============================] - 808s 16ms/step - loss: 0.0503 - accuracy: 0.9882 - val_loss: 0.0713 - val_accuracy: 0.9835\n",
      "Epoch 18/25\n",
      "49183/49183 [==============================] - 812s 17ms/step - loss: 0.0503 - accuracy: 0.9882 - val_loss: 0.2950 - val_accuracy: 0.9470\n",
      "Epoch 19/25\n",
      "49183/49183 [==============================] - 819s 17ms/step - loss: 0.0501 - accuracy: 0.9883 - val_loss: 0.3660 - val_accuracy: 0.9119\n",
      "Epoch 20/25\n",
      "49183/49183 [==============================] - 823s 17ms/step - loss: 0.0501 - accuracy: 0.9883 - val_loss: 0.1627 - val_accuracy: 0.9455\n",
      "Epoch 21/25\n",
      "49183/49183 [==============================] - 821s 17ms/step - loss: 0.0501 - accuracy: 0.9883 - val_loss: 0.1499 - val_accuracy: 0.9694\n",
      "Epoch 22/25\n",
      "49183/49183 [==============================] - 837s 17ms/step - loss: 0.0501 - accuracy: 0.9883 - val_loss: 0.1439 - val_accuracy: 0.9754\n",
      "Epoch 23/25\n",
      "49183/49183 [==============================] - 847s 17ms/step - loss: 0.0501 - accuracy: 0.9883 - val_loss: 0.1561 - val_accuracy: 0.9524\n",
      "Epoch 24/25\n",
      "49183/49183 [==============================] - 847s 17ms/step - loss: 0.0501 - accuracy: 0.9883 - val_loss: 0.1764 - val_accuracy: 0.9748\n",
      "Epoch 25/25\n",
      "49183/49183 [==============================] - 846s 17ms/step - loss: 0.0499 - accuracy: 0.9883 - val_loss: 0.1745 - val_accuracy: 0.9781\n"
     ]
    }
   ],
   "source": [
    "batch_size = 256\n",
    "logger = CSVLogger('logs.csv', append=True)\n",
    "his = model.fit(X_train, y_train, epochs=25#\n",
    "                , batch_size=batch_size, \n",
    "          validation_data=(X_test, y_test), callbacks=[logger])"
   ]
  },
  {
   "cell_type": "code",
   "execution_count": null,
   "id": "79333366",
   "metadata": {},
   "outputs": [],
   "source": [
    "model.save(\"D:/GIU/Semester 7/Bachelor Thesis/Project Code/models/CNN_V5.3.7.h5\")"
   ]
  },
  {
   "cell_type": "code",
   "execution_count": null,
   "id": "9fd9e035",
   "metadata": {},
   "outputs": [],
   "source": [
    "from keras.models import load_model\n",
    "\n",
    "\n",
    "loaded_model = load_model('D:/GIU/Semester 7/Bachelor Thesis/Project Code/models/CNN_V5.3.7.h5')"
   ]
  },
  {
   "cell_type": "code",
   "execution_count": 44,
   "id": "55a0b694",
   "metadata": {},
   "outputs": [
    {
     "name": "stdout",
     "output_type": "stream",
     "text": [
      "98366/98366 [==============================] - 173s 2ms/step\n"
     ]
    },
    {
     "data": {
      "image/png": "[encoded data removed]",
      "text/plain": [
       "<Figure size 1080x1080 with 2 Axes>"
      ]
     },
     "metadata": {
      "needs_background": "light"
     },
     "output_type": "display_data"
    }
   ],
   "source": [
    "from sklearn.metrics import accuracy_score, confusion_matrix, precision_recall_fscore_support,  roc_curve, auc\n",
    "import tensorflow as tf \n",
    "#model = tf.keras.models.load_model('/'+model_name+'.h5')\n",
    "\n",
    "y_pred = model.predict(X_test)\n",
    "\n",
    "y_pred_cm  = np.argmax(y_pred, axis=1)\n",
    "y_test_cm  = np.argmax(y_test, axis=1)\n",
    "\n",
    "cm = confusion_matrix(y_test_cm, y_pred_cm) \n",
    "\n",
    "group_counts = [\"{0:0.0f}\".format(value) for value in cm.flatten()]\n",
    "\n",
    "group_percentages = [\"{0:.2%}\".format(value) for value in cm.flatten()/np.sum(cm)]\n",
    "\n",
    "labels = [f\"{v1}\\n{v2}\" for v1, v2 in zip(group_counts,group_percentages)]\n",
    "\n",
    "labels = np.asarray(labels).reshape(7,7)\n",
    "\n",
    "label = ['Benign','Bot','Bruteforce','DDoS','DoS','Infiltration','Web Attacks']\n",
    "\n",
    "plt.figure(figsize=(15,15))\n",
    "sns.heatmap(cm, xticklabels=label, yticklabels=label, annot=labels, fmt='', cmap=\"Blues\", vmin = 0.2);\n",
    "# plt.title('Confusion Matrix for'+ modelName+' model')\n",
    "plt.ylabel('True Class')\n",
    "plt.xlabel('Predicted Class')\n",
    "# plt.savefig('./'+modelName+'_CM.png')\n",
    "plt.show()"
   ]
  },
  {
   "cell_type": "code",
   "execution_count": 45,
   "id": "3d33f2d2",
   "metadata": {},
   "outputs": [
    {
     "name": "stdout",
     "output_type": "stream",
     "text": [
      "              precision    recall  f1-score   support\n",
      "\n",
      "      Benign    0.97696   0.99957   0.98814   2677013\n",
      "         Bot    0.99798   0.50634   0.67182     56462\n",
      "  Bruteforce    0.88008   0.99148   0.93247     31334\n",
      "        DDoS    0.99815   0.98802   0.99306    249273\n",
      "         DoS    0.99670   0.95352   0.97463    101215\n",
      "Infiltration    0.47959   0.01751   0.03378     32212\n",
      " Web Attacks    0.95000   0.20541   0.33778       185\n",
      "\n",
      "    accuracy                        0.97815   3147694\n",
      "   macro avg    0.89707   0.66598   0.70453   3147694\n",
      "weighted avg    0.97360   0.97815   0.97206   3147694\n",
      "\n",
      "98366/98366 [==============================] - 195s 2ms/step - loss: 0.1745 - accuracy: 0.9781\n",
      "Test: accuracy = 0.978149 ; loss = 0.174516 \n"
     ]
    }
   ],
   "source": [
    "from sklearn.metrics import classification_report\n",
    "\n",
    "\n",
    "\n",
    "print(classification_report(y_test_cm, y_pred_cm, target_names= label,digits=5))\n",
    "                            \n",
    "loss, accuracy = model.evaluate(X_test,y_test, verbose = 1)\n",
    "print(\"Test: accuracy = %f ; loss = %f \" % (accuracy,loss))"
   ]
  },
  {
   "cell_type": "markdown",
   "id": "ab6c2030",
   "metadata": {},
   "source": [
    "# DNN (DNN-7C)"
   ]
  },
  {
   "cell_type": "code",
   "execution_count": 102,
   "id": "97486398",
   "metadata": {
    "scrolled": true
   },
   "outputs": [
    {
     "data": {
      "text/html": [
       "<div>\n",
       "<style scoped>\n",
       "    .dataframe tbody tr th:only-of-type {\n",
       "        vertical-align: middle;\n",
       "    }\n",
       "\n",
       "    .dataframe tbody tr th {\n",
       "        vertical-align: top;\n",
       "    }\n",
       "\n",
       "    .dataframe thead th {\n",
       "        text-align: right;\n",
       "    }\n",
       "</style>\n",
       "<table border=\"1\" class=\"dataframe\">\n",
       "  <thead>\n",
       "    <tr style=\"text-align: right;\">\n",
       "      <th></th>\n",
       "      <th>0</th>\n",
       "      <th>1</th>\n",
       "      <th>2</th>\n",
       "      <th>3</th>\n",
       "      <th>4</th>\n",
       "      <th>5</th>\n",
       "      <th>6</th>\n",
       "      <th>7</th>\n",
       "      <th>8</th>\n",
       "      <th>9</th>\n",
       "      <th>...</th>\n",
       "      <th>15</th>\n",
       "      <th>16</th>\n",
       "      <th>17</th>\n",
       "      <th>18</th>\n",
       "      <th>19</th>\n",
       "      <th>20</th>\n",
       "      <th>21</th>\n",
       "      <th>22</th>\n",
       "      <th>23</th>\n",
       "      <th>24</th>\n",
       "    </tr>\n",
       "  </thead>\n",
       "  <tbody>\n",
       "    <tr>\n",
       "      <th>0</th>\n",
       "      <td>-0.039661</td>\n",
       "      <td>-0.306430</td>\n",
       "      <td>-0.658887</td>\n",
       "      <td>-0.484387</td>\n",
       "      <td>-0.026016</td>\n",
       "      <td>-0.010581</td>\n",
       "      <td>-0.013528</td>\n",
       "      <td>-0.003702</td>\n",
       "      <td>-0.142391</td>\n",
       "      <td>-0.020578</td>\n",
       "      <td>...</td>\n",
       "      <td>-0.228573</td>\n",
       "      <td>-0.621471</td>\n",
       "      <td>-0.130236</td>\n",
       "      <td>-0.228573</td>\n",
       "      <td>-1.330464</td>\n",
       "      <td>-0.525628</td>\n",
       "      <td>-0.196401</td>\n",
       "      <td>-0.018489</td>\n",
       "      <td>-0.018489</td>\n",
       "      <td>-0.033702</td>\n",
       "    </tr>\n",
       "    <tr>\n",
       "      <th>1</th>\n",
       "      <td>0.004802</td>\n",
       "      <td>4.112337</td>\n",
       "      <td>2.284828</td>\n",
       "      <td>-0.463821</td>\n",
       "      <td>-0.025560</td>\n",
       "      <td>-0.010497</td>\n",
       "      <td>-0.013467</td>\n",
       "      <td>-0.003703</td>\n",
       "      <td>-0.151184</td>\n",
       "      <td>-0.009065</td>\n",
       "      <td>...</td>\n",
       "      <td>3.019699</td>\n",
       "      <td>3.224292</td>\n",
       "      <td>-0.134966</td>\n",
       "      <td>3.019699</td>\n",
       "      <td>0.348419</td>\n",
       "      <td>-0.021710</td>\n",
       "      <td>3.896463</td>\n",
       "      <td>0.012520</td>\n",
       "      <td>0.012520</td>\n",
       "      <td>0.003258</td>\n",
       "    </tr>\n",
       "    <tr>\n",
       "      <th>2</th>\n",
       "      <td>-0.037190</td>\n",
       "      <td>-0.373015</td>\n",
       "      <td>-0.658887</td>\n",
       "      <td>-0.484387</td>\n",
       "      <td>-0.025807</td>\n",
       "      <td>-0.010487</td>\n",
       "      <td>-0.013401</td>\n",
       "      <td>-0.003703</td>\n",
       "      <td>-0.151299</td>\n",
       "      <td>-0.019938</td>\n",
       "      <td>...</td>\n",
       "      <td>-0.212109</td>\n",
       "      <td>-0.621471</td>\n",
       "      <td>-0.135028</td>\n",
       "      <td>-0.212109</td>\n",
       "      <td>-1.330464</td>\n",
       "      <td>-0.525628</td>\n",
       "      <td>-0.327570</td>\n",
       "      <td>-0.017718</td>\n",
       "      <td>-0.017718</td>\n",
       "      <td>-0.027542</td>\n",
       "    </tr>\n",
       "    <tr>\n",
       "      <th>3</th>\n",
       "      <td>-0.035955</td>\n",
       "      <td>-0.705935</td>\n",
       "      <td>-0.658887</td>\n",
       "      <td>2.306645</td>\n",
       "      <td>-0.026019</td>\n",
       "      <td>-0.010583</td>\n",
       "      <td>-0.013532</td>\n",
       "      <td>-0.003703</td>\n",
       "      <td>0.113029</td>\n",
       "      <td>-0.019618</td>\n",
       "      <td>...</td>\n",
       "      <td>-0.854236</td>\n",
       "      <td>-0.621471</td>\n",
       "      <td>0.007175</td>\n",
       "      <td>-0.854236</td>\n",
       "      <td>0.348419</td>\n",
       "      <td>-0.500903</td>\n",
       "      <td>-0.849945</td>\n",
       "      <td>-0.019222</td>\n",
       "      <td>-0.019222</td>\n",
       "      <td>-0.033702</td>\n",
       "    </tr>\n",
       "    <tr>\n",
       "      <th>4</th>\n",
       "      <td>0.003567</td>\n",
       "      <td>0.661202</td>\n",
       "      <td>1.429096</td>\n",
       "      <td>-0.308471</td>\n",
       "      <td>-0.022341</td>\n",
       "      <td>-0.009077</td>\n",
       "      <td>-0.013045</td>\n",
       "      <td>-0.003703</td>\n",
       "      <td>-0.151445</td>\n",
       "      <td>-0.007786</td>\n",
       "      <td>...</td>\n",
       "      <td>1.508464</td>\n",
       "      <td>1.318567</td>\n",
       "      <td>-0.135105</td>\n",
       "      <td>1.508464</td>\n",
       "      <td>0.348419</td>\n",
       "      <td>-0.021710</td>\n",
       "      <td>0.824722</td>\n",
       "      <td>0.002903</td>\n",
       "      <td>0.002903</td>\n",
       "      <td>0.003258</td>\n",
       "    </tr>\n",
       "  </tbody>\n",
       "</table>\n",
       "<p>5 rows × 25 columns</p>\n",
       "</div>"
      ],
      "text/plain": [
       "         0         1         2         3         4         5         6   \\\n",
       "0 -0.039661 -0.306430 -0.658887 -0.484387 -0.026016 -0.010581 -0.013528   \n",
       "1  0.004802  4.112337  2.284828 -0.463821 -0.025560 -0.010497 -0.013467   \n",
       "2 -0.037190 -0.373015 -0.658887 -0.484387 -0.025807 -0.010487 -0.013401   \n",
       "3 -0.035955 -0.705935 -0.658887  2.306645 -0.026019 -0.010583 -0.013532   \n",
       "4  0.003567  0.661202  1.429096 -0.308471 -0.022341 -0.009077 -0.013045   \n",
       "\n",
       "         7         8         9   ...        15        16        17        18  \\\n",
       "0 -0.003702 -0.142391 -0.020578  ... -0.228573 -0.621471 -0.130236 -0.228573   \n",
       "1 -0.003703 -0.151184 -0.009065  ...  3.019699  3.224292 -0.134966  3.019699   \n",
       "2 -0.003703 -0.151299 -0.019938  ... -0.212109 -0.621471 -0.135028 -0.212109   \n",
       "3 -0.003703  0.113029 -0.019618  ... -0.854236 -0.621471  0.007175 -0.854236   \n",
       "4 -0.003703 -0.151445 -0.007786  ...  1.508464  1.318567 -0.135105  1.508464   \n",
       "\n",
       "         19        20        21        22        23        24  \n",
       "0 -1.330464 -0.525628 -0.196401 -0.018489 -0.018489 -0.033702  \n",
       "1  0.348419 -0.021710  3.896463  0.012520  0.012520  0.003258  \n",
       "2 -1.330464 -0.525628 -0.327570 -0.017718 -0.017718 -0.027542  \n",
       "3  0.348419 -0.500903 -0.849945 -0.019222 -0.019222 -0.033702  \n",
       "4  0.348419 -0.021710  0.824722  0.002903  0.002903  0.003258  \n",
       "\n",
       "[5 rows x 25 columns]"
      ]
     },
     "execution_count": 102,
     "metadata": {},
     "output_type": "execute_result"
    }
   ],
   "source": [
    "from sklearn import preprocessing\n",
    "from sklearn.preprocessing import StandardScaler\n",
    "\n",
    "\n",
    "scaler = StandardScaler()\n",
    "\n",
    "scalar1 = scaler.fit_transform(X_train)\n",
    "scalar2 = scaler.fit_transform(X_test)\n",
    "\n",
    "X_train = pd.DataFrame(scalar1)\n",
    "X_test = pd.DataFrame(scalar2)\n",
    "\n",
    "X_train.head()"
   ]
  },
  {
   "cell_type": "code",
   "execution_count": null,
   "id": "04ae3bd2",
   "metadata": {},
   "outputs": [],
   "source": [
    "import tensorflow as tf\n",
    "\n",
    "def model():\n",
    "\n",
    "    # Define the model\n",
    "    model = tf.keras.Sequential()\n",
    "\n",
    "    # Add the layers\n",
    "    model.add(tf.keras.layers.Dense(300, activation='relu', input_shape=(X_train.shape[1],)))\n",
    "    model.add(tf.keras.layers.Dropout(0.22))\n",
    "    model.add(tf.keras.layers.Dense(300, activation='relu'))\n",
    "    model.add(tf.keras.layers.Dropout(0.22))\n",
    "    model.add(tf.keras.layers.Dense(300, activation='relu'))\n",
    "    model.add(tf.keras.layers.Dropout(0.22))\n",
    "    model.add(tf.keras.layers.Dense(300, activation='relu'))\n",
    "    model.add(tf.keras.layers.Dropout(0.22))\n",
    "    model.add(tf.keras.layers.Dense(300, activation='relu'))\n",
    "    model.add(tf.keras.layers.Dropout(0.22))\n",
    "    #newly added\n",
    "    model.add(tf.keras.layers.Dense(300, activation='relu'))\n",
    "    model.add(tf.keras.layers.Dropout(0.22))\n",
    "    model.add(tf.keras.layers.Dense(300, activation='relu'))\n",
    "    model.add(tf.keras.layers.Dropout(0.22))\n",
    "    model.add(tf.keras.layers.Dense(7, activation='softmax'))\n",
    "\n",
    "    # Compile the model\n",
    "#     optimizer = tf.keras.optimizers.Adam(learning_rate=0.00061)\n",
    "    model.compile(optimizer='adam', loss='categorical_crossentropy', metrics=['accuracy'])\n",
    "\n",
    "    return model\n",
    "\n"
   ]
  },
  {
   "cell_type": "code",
   "execution_count": null,
   "id": "d624d3e4",
   "metadata": {},
   "outputs": [],
   "source": [
    "model = model()\n",
    "model.summary()"
   ]
  },
  {
   "cell_type": "code",
   "execution_count": 37,
   "id": "7ecf0b7a",
   "metadata": {},
   "outputs": [
    {
     "name": "stdout",
     "output_type": "stream",
     "text": [
      "Epoch 1/25\n",
      "3074/3074 [==============================] - 399s 129ms/step - loss: 0.0595 - accuracy: 0.9867 - val_loss: 0.3867 - val_accuracy: 0.9497\n",
      "Epoch 2/25\n",
      "3074/3074 [==============================] - 407s 132ms/step - loss: 0.0557 - accuracy: 0.9872 - val_loss: 0.4197 - val_accuracy: 0.9419\n",
      "Epoch 3/25\n",
      "3074/3074 [==============================] - 403s 131ms/step - loss: 0.0546 - accuracy: 0.9874 - val_loss: 0.5974 - val_accuracy: 0.9085\n",
      "Epoch 4/25\n",
      "3074/3074 [==============================] - 403s 131ms/step - loss: 0.0541 - accuracy: 0.9874 - val_loss: 0.5301 - val_accuracy: 0.9296\n",
      "Epoch 5/25\n",
      "3074/3074 [==============================] - 404s 131ms/step - loss: 0.0537 - accuracy: 0.9875 - val_loss: 0.8478 - val_accuracy: 0.9141\n",
      "Epoch 6/25\n",
      "3074/3074 [==============================] - 405s 132ms/step - loss: 0.0534 - accuracy: 0.9876 - val_loss: 0.4905 - val_accuracy: 0.9136\n",
      "Epoch 7/25\n",
      "3074/3074 [==============================] - 403s 131ms/step - loss: 0.0531 - accuracy: 0.9877 - val_loss: 0.5826 - val_accuracy: 0.9139\n",
      "Epoch 8/25\n",
      "3074/3074 [==============================] - 404s 131ms/step - loss: 0.0530 - accuracy: 0.9877 - val_loss: 0.4898 - val_accuracy: 0.9472\n",
      "Epoch 9/25\n",
      "3074/3074 [==============================] - 406s 132ms/step - loss: 0.0553 - accuracy: 0.9877 - val_loss: 0.6611 - val_accuracy: 0.9003\n",
      "Epoch 10/25\n",
      "3074/3074 [==============================] - 404s 131ms/step - loss: 0.0527 - accuracy: 0.9877 - val_loss: 0.6590 - val_accuracy: 0.9053\n",
      "Epoch 11/25\n",
      "3074/3074 [==============================] - 403s 131ms/step - loss: 0.0528 - accuracy: 0.9877 - val_loss: 0.5639 - val_accuracy: 0.9397\n",
      "Epoch 12/25\n",
      "3074/3074 [==============================] - 403s 131ms/step - loss: 0.0527 - accuracy: 0.9877 - val_loss: 0.5501 - val_accuracy: 0.9465\n",
      "Epoch 13/25\n",
      "3074/3074 [==============================] - 409s 133ms/step - loss: 0.0525 - accuracy: 0.9878 - val_loss: 0.3900 - val_accuracy: 0.9457\n",
      "Epoch 14/25\n",
      "3074/3074 [==============================] - 402s 131ms/step - loss: 0.0526 - accuracy: 0.9878 - val_loss: 0.5963 - val_accuracy: 0.9449\n",
      "Epoch 15/25\n",
      "3074/3074 [==============================] - 403s 131ms/step - loss: 0.0526 - accuracy: 0.9878 - val_loss: 0.5750 - val_accuracy: 0.9467\n",
      "Epoch 16/25\n",
      "3074/3074 [==============================] - 402s 131ms/step - loss: 0.0525 - accuracy: 0.9878 - val_loss: 0.5838 - val_accuracy: 0.9064\n",
      "Epoch 17/25\n",
      "3074/3074 [==============================] - 402s 131ms/step - loss: 0.0526 - accuracy: 0.9877 - val_loss: 0.4878 - val_accuracy: 0.9366\n",
      "Epoch 18/25\n",
      "3074/3074 [==============================] - 404s 131ms/step - loss: 0.0525 - accuracy: 0.9878 - val_loss: 0.5413 - val_accuracy: 0.9453\n",
      "Epoch 19/25\n",
      "3074/3074 [==============================] - 402s 131ms/step - loss: 0.0525 - accuracy: 0.9878 - val_loss: 0.5359 - val_accuracy: 0.9350\n",
      "Epoch 20/25\n",
      "3074/3074 [==============================] - 402s 131ms/step - loss: 0.0526 - accuracy: 0.9878 - val_loss: 0.5617 - val_accuracy: 0.9458\n",
      "Epoch 21/25\n",
      "3074/3074 [==============================] - 403s 131ms/step - loss: 0.0524 - accuracy: 0.9878 - val_loss: 0.5826 - val_accuracy: 0.9459\n",
      "Epoch 22/25\n",
      "3074/3074 [==============================] - 404s 131ms/step - loss: 0.0525 - accuracy: 0.9878 - val_loss: 0.6696 - val_accuracy: 0.9336\n",
      "Epoch 23/25\n",
      "3074/3074 [==============================] - 403s 131ms/step - loss: 0.0525 - accuracy: 0.9878 - val_loss: 0.7070 - val_accuracy: 0.9422\n",
      "Epoch 24/25\n",
      "3074/3074 [==============================] - 406s 132ms/step - loss: 0.0525 - accuracy: 0.9877 - val_loss: 0.9358 - val_accuracy: 0.9188\n",
      "Epoch 25/25\n",
      "3074/3074 [==============================] - 402s 131ms/step - loss: 0.0528 - accuracy: 0.9878 - val_loss: 0.7162 - val_accuracy: 0.9424\n",
      "Wall time: 2h 48min 6s\n"
     ]
    }
   ],
   "source": [
    "%%time\n",
    "# Fit the model to the training data\n",
    "logger = CSVLogger('logs.csv', append=True)\n",
    "\n",
    "his = model.fit(X_train, y_train, batch_size=4096, epochs=25, validation_data=(X_test, y_test),callbacks=[logger])"
   ]
  },
  {
   "cell_type": "code",
   "execution_count": 38,
   "id": "77652ffa",
   "metadata": {},
   "outputs": [],
   "source": [
    "model.save(\"D:/GIU/Semester 7/Bachelor Thesis/Project Code/models/DNN_V5.3.7.h5\")"
   ]
  },
  {
   "cell_type": "code",
   "execution_count": null,
   "id": "1bd6a0f9",
   "metadata": {},
   "outputs": [],
   "source": [
    "from keras.models import load_model\n",
    "\n",
    "\n",
    "loaded_model = load_model('D:/GIU/Semester 7/Bachelor Thesis/Project Code/models/DNN_V5.3.7.h5')"
   ]
  },
  {
   "cell_type": "code",
   "execution_count": 103,
   "id": "df731bb4",
   "metadata": {
    "scrolled": false
   },
   "outputs": [
    {
     "name": "stdout",
     "output_type": "stream",
     "text": [
      "98366/98366 [==============================] - 195s 2ms/step\n"
     ]
    },
    {
     "data": {
      "image/png": "[encoded data removed]",
      "text/plain": [
       "<Figure size 1080x1080 with 2 Axes>"
      ]
     },
     "metadata": {
      "needs_background": "light"
     },
     "output_type": "display_data"
    }
   ],
   "source": [
    "from sklearn.metrics import accuracy_score, confusion_matrix, precision_recall_fscore_support,  roc_curve, auc\n",
    "import tensorflow as tf \n",
    "#model = tf.keras.models.load_model('/'+model_name+'.h5')\n",
    "\n",
    "y_pred = model.predict(X_test)\n",
    "\n",
    "y_pred_cm  = np.argmax(y_pred, axis=1)\n",
    "y_test_cm  = np.argmax(y_test, axis=1)\n",
    "\n",
    "cm = confusion_matrix(y_test_cm, y_pred_cm) \n",
    "\n",
    "group_counts = [\"{0:0.0f}\".format(value) for value in cm.flatten()]\n",
    "\n",
    "group_percentages = [\"{0:.2%}\".format(value) for value in cm.flatten()/np.sum(cm)]\n",
    "\n",
    "labels = [f\"{v1}\\n{v2}\" for v1, v2 in zip(group_counts,group_percentages)]\n",
    "\n",
    "labels = np.asarray(labels).reshape(7,7)\n",
    "\n",
    "label = ['Benign','Bot','Bruteforce','DDoS','DoS','Infiltration','Web Attacks']\n",
    "\n",
    "plt.figure(figsize=(15,15))\n",
    "sns.heatmap(cm, xticklabels=label, yticklabels=label, annot=labels, fmt='', cmap=\"Blues\", vmin = 0.2);\n",
    "# plt.title('Confusion Matrix for'+ modelName+' model')\n",
    "plt.ylabel('True Class')\n",
    "plt.xlabel('Predicted Class')\n",
    "# plt.savefig('./'+modelName+'_CM.png')\n",
    "plt.show()"
   ]
  },
  {
   "cell_type": "code",
   "execution_count": 104,
   "id": "9618f453",
   "metadata": {
    "scrolled": false
   },
   "outputs": [
    {
     "name": "stdout",
     "output_type": "stream",
     "text": [
      "              precision    recall  f1-score   support\n",
      "\n",
      "      Benign    0.94023   0.99725   0.96790   2677013\n",
      "         Bot    0.99986   0.50069   0.66725     56462\n",
      "  Bruteforce    0.88345   0.97440   0.92670     31334\n",
      "        DDoS    0.95535   0.57240   0.71588    249273\n",
      "         DoS    0.99212   0.94222   0.96653    101215\n",
      "Infiltration    0.00000   0.00000   0.00000     32212\n",
      " Web Attacks    1.00000   0.21081   0.34821       185\n",
      "\n",
      "    accuracy                        0.94245   3147694\n",
      "   macro avg    0.82443   0.59968   0.65607   3147694\n",
      "weighted avg    0.93398   0.94245   0.93215   3147694\n",
      "\n",
      "98366/98366 [==============================] - 217s 2ms/step - loss: 0.7162 - accuracy: 0.9424\n",
      "Test: accuracy = 0.942446 ; loss = 0.716153 \n"
     ]
    }
   ],
   "source": [
    "from sklearn.metrics import classification_report\n",
    "\n",
    "\n",
    "\n",
    "print(classification_report(y_test_cm, y_pred_cm, target_names= label,digits=5))\n",
    "                            \n",
    "loss, accuracy = model.evaluate(X_test,y_test, verbose = 1)\n",
    "print(\"Test: accuracy = %f ; loss = %f \" % (accuracy,loss))"
   ]
  },
  {
   "cell_type": "code",
   "execution_count": null,
   "id": "5d0bd44c",
   "metadata": {},
   "outputs": [],
   "source": []
  },
  {
   "cell_type": "code",
   "execution_count": null,
   "id": "2ab09c5d",
   "metadata": {},
   "outputs": [],
   "source": []
  },
  {
   "cell_type": "code",
   "execution_count": null,
   "id": "b7adfafb",
   "metadata": {},
   "outputs": [],
   "source": []
  },
  {
   "cell_type": "code",
   "execution_count": null,
   "id": "278f009d",
   "metadata": {},
   "outputs": [],
   "source": []
  },
  {
   "cell_type": "code",
   "execution_count": null,
   "id": "3f85407d",
   "metadata": {},
   "outputs": [],
   "source": []
  },
  {
   "cell_type": "code",
   "execution_count": null,
   "id": "227d1d75",
   "metadata": {},
   "outputs": [],
   "source": []
  },
  {
   "cell_type": "code",
   "execution_count": null,
   "id": "20652483",
   "metadata": {},
   "outputs": [],
   "source": []
  },
  {
   "cell_type": "code",
   "execution_count": null,
   "id": "4f24beb3",
   "metadata": {},
   "outputs": [],
   "source": []
  }
 ],
 "metadata": {
  "kernelspec": {
   "display_name": "Python 3",
   "language": "python",
   "name": "python3"
  },
  "language_info": {
   "codemirror_mode": {
    "name": "ipython",
    "version": 3
   },
   "file_extension": ".py",
   "mimetype": "text/x-python",
   "name": "python",
   "nbconvert_exporter": "python",
   "pygments_lexer": "ipython3",
   "version": "3.9.7"
  }
 },
 "nbformat": 4,
 "nbformat_minor": 5
}
